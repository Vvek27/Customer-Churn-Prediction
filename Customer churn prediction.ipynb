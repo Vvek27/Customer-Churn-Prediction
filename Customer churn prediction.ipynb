{
 "cells": [
  {
   "cell_type": "markdown",
   "id": "0a0c15c6",
   "metadata": {},
   "source": [
    "#### Importing the libraries"
   ]
  },
  {
   "cell_type": "code",
   "execution_count": 1,
   "id": "ae7a496f",
   "metadata": {},
   "outputs": [],
   "source": [
    "import pandas as pd\n",
    "import numpy as np\n",
    "import seaborn as sns\n",
    "import tensorflow as tf\n",
    "import matplotlib.pyplot as plt\n",
    "from scipy import stats\n",
    "from scipy.stats import norm,boxcox\n",
    "from sklearn.metrics import accuracy_score,confusion_matrix"
   ]
  },
  {
   "cell_type": "code",
   "execution_count": 2,
   "id": "82bf3b90",
   "metadata": {},
   "outputs": [],
   "source": [
    "import warnings\n",
    "warnings.filterwarnings(\"ignore\")"
   ]
  },
  {
   "cell_type": "markdown",
   "id": "84be2352",
   "metadata": {},
   "source": [
    "### 1.Data preprocessing"
   ]
  },
  {
   "cell_type": "markdown",
   "id": "07a8408d",
   "metadata": {},
   "source": [
    "#### Importing the dataset"
   ]
  },
  {
   "cell_type": "code",
   "execution_count": 3,
   "id": "3861121e",
   "metadata": {},
   "outputs": [],
   "source": [
    "df=pd.read_csv(\"churn_modelling.csv\")"
   ]
  },
  {
   "cell_type": "code",
   "execution_count": 4,
   "id": "a0129652",
   "metadata": {},
   "outputs": [
    {
     "data": {
      "text/html": [
       "<div>\n",
       "<style scoped>\n",
       "    .dataframe tbody tr th:only-of-type {\n",
       "        vertical-align: middle;\n",
       "    }\n",
       "\n",
       "    .dataframe tbody tr th {\n",
       "        vertical-align: top;\n",
       "    }\n",
       "\n",
       "    .dataframe thead th {\n",
       "        text-align: right;\n",
       "    }\n",
       "</style>\n",
       "<table border=\"1\" class=\"dataframe\">\n",
       "  <thead>\n",
       "    <tr style=\"text-align: right;\">\n",
       "      <th></th>\n",
       "      <th>RowNumber</th>\n",
       "      <th>CustomerId</th>\n",
       "      <th>Surname</th>\n",
       "      <th>CreditScore</th>\n",
       "      <th>Geography</th>\n",
       "      <th>Gender</th>\n",
       "      <th>Age</th>\n",
       "      <th>Tenure</th>\n",
       "      <th>Balance</th>\n",
       "      <th>NumOfProducts</th>\n",
       "      <th>HasCrCard</th>\n",
       "      <th>IsActiveMember</th>\n",
       "      <th>EstimatedSalary</th>\n",
       "      <th>Exited</th>\n",
       "    </tr>\n",
       "  </thead>\n",
       "  <tbody>\n",
       "    <tr>\n",
       "      <th>0</th>\n",
       "      <td>1</td>\n",
       "      <td>15634602</td>\n",
       "      <td>Hargrave</td>\n",
       "      <td>619</td>\n",
       "      <td>France</td>\n",
       "      <td>Female</td>\n",
       "      <td>42</td>\n",
       "      <td>2</td>\n",
       "      <td>0.00</td>\n",
       "      <td>1</td>\n",
       "      <td>1</td>\n",
       "      <td>1</td>\n",
       "      <td>101348.88</td>\n",
       "      <td>1</td>\n",
       "    </tr>\n",
       "    <tr>\n",
       "      <th>1</th>\n",
       "      <td>2</td>\n",
       "      <td>15647311</td>\n",
       "      <td>Hill</td>\n",
       "      <td>608</td>\n",
       "      <td>Spain</td>\n",
       "      <td>Female</td>\n",
       "      <td>41</td>\n",
       "      <td>1</td>\n",
       "      <td>83807.86</td>\n",
       "      <td>1</td>\n",
       "      <td>0</td>\n",
       "      <td>1</td>\n",
       "      <td>112542.58</td>\n",
       "      <td>0</td>\n",
       "    </tr>\n",
       "    <tr>\n",
       "      <th>2</th>\n",
       "      <td>3</td>\n",
       "      <td>15619304</td>\n",
       "      <td>Onio</td>\n",
       "      <td>502</td>\n",
       "      <td>France</td>\n",
       "      <td>Female</td>\n",
       "      <td>42</td>\n",
       "      <td>8</td>\n",
       "      <td>159660.80</td>\n",
       "      <td>3</td>\n",
       "      <td>1</td>\n",
       "      <td>0</td>\n",
       "      <td>113931.57</td>\n",
       "      <td>1</td>\n",
       "    </tr>\n",
       "    <tr>\n",
       "      <th>3</th>\n",
       "      <td>4</td>\n",
       "      <td>15701354</td>\n",
       "      <td>Boni</td>\n",
       "      <td>699</td>\n",
       "      <td>France</td>\n",
       "      <td>Female</td>\n",
       "      <td>39</td>\n",
       "      <td>1</td>\n",
       "      <td>0.00</td>\n",
       "      <td>2</td>\n",
       "      <td>0</td>\n",
       "      <td>0</td>\n",
       "      <td>93826.63</td>\n",
       "      <td>0</td>\n",
       "    </tr>\n",
       "    <tr>\n",
       "      <th>4</th>\n",
       "      <td>5</td>\n",
       "      <td>15737888</td>\n",
       "      <td>Mitchell</td>\n",
       "      <td>850</td>\n",
       "      <td>Spain</td>\n",
       "      <td>Female</td>\n",
       "      <td>43</td>\n",
       "      <td>2</td>\n",
       "      <td>125510.82</td>\n",
       "      <td>1</td>\n",
       "      <td>1</td>\n",
       "      <td>1</td>\n",
       "      <td>79084.10</td>\n",
       "      <td>0</td>\n",
       "    </tr>\n",
       "  </tbody>\n",
       "</table>\n",
       "</div>"
      ],
      "text/plain": [
       "   RowNumber  CustomerId   Surname  CreditScore Geography  Gender  Age  \\\n",
       "0          1    15634602  Hargrave          619    France  Female   42   \n",
       "1          2    15647311      Hill          608     Spain  Female   41   \n",
       "2          3    15619304      Onio          502    France  Female   42   \n",
       "3          4    15701354      Boni          699    France  Female   39   \n",
       "4          5    15737888  Mitchell          850     Spain  Female   43   \n",
       "\n",
       "   Tenure    Balance  NumOfProducts  HasCrCard  IsActiveMember  \\\n",
       "0       2       0.00              1          1               1   \n",
       "1       1   83807.86              1          0               1   \n",
       "2       8  159660.80              3          1               0   \n",
       "3       1       0.00              2          0               0   \n",
       "4       2  125510.82              1          1               1   \n",
       "\n",
       "   EstimatedSalary  Exited  \n",
       "0        101348.88       1  \n",
       "1        112542.58       0  \n",
       "2        113931.57       1  \n",
       "3         93826.63       0  \n",
       "4         79084.10       0  "
      ]
     },
     "execution_count": 4,
     "metadata": {},
     "output_type": "execute_result"
    }
   ],
   "source": [
    "df.head()"
   ]
  },
  {
   "cell_type": "code",
   "execution_count": 5,
   "id": "2f2396db",
   "metadata": {},
   "outputs": [],
   "source": [
    "df=df.iloc[:,3:]"
   ]
  },
  {
   "cell_type": "code",
   "execution_count": 6,
   "id": "371c2d96",
   "metadata": {},
   "outputs": [
    {
     "data": {
      "text/html": [
       "<div>\n",
       "<style scoped>\n",
       "    .dataframe tbody tr th:only-of-type {\n",
       "        vertical-align: middle;\n",
       "    }\n",
       "\n",
       "    .dataframe tbody tr th {\n",
       "        vertical-align: top;\n",
       "    }\n",
       "\n",
       "    .dataframe thead th {\n",
       "        text-align: right;\n",
       "    }\n",
       "</style>\n",
       "<table border=\"1\" class=\"dataframe\">\n",
       "  <thead>\n",
       "    <tr style=\"text-align: right;\">\n",
       "      <th></th>\n",
       "      <th>CreditScore</th>\n",
       "      <th>Geography</th>\n",
       "      <th>Gender</th>\n",
       "      <th>Age</th>\n",
       "      <th>Tenure</th>\n",
       "      <th>Balance</th>\n",
       "      <th>NumOfProducts</th>\n",
       "      <th>HasCrCard</th>\n",
       "      <th>IsActiveMember</th>\n",
       "      <th>EstimatedSalary</th>\n",
       "      <th>Exited</th>\n",
       "    </tr>\n",
       "  </thead>\n",
       "  <tbody>\n",
       "    <tr>\n",
       "      <th>0</th>\n",
       "      <td>619</td>\n",
       "      <td>France</td>\n",
       "      <td>Female</td>\n",
       "      <td>42</td>\n",
       "      <td>2</td>\n",
       "      <td>0.00</td>\n",
       "      <td>1</td>\n",
       "      <td>1</td>\n",
       "      <td>1</td>\n",
       "      <td>101348.88</td>\n",
       "      <td>1</td>\n",
       "    </tr>\n",
       "    <tr>\n",
       "      <th>1</th>\n",
       "      <td>608</td>\n",
       "      <td>Spain</td>\n",
       "      <td>Female</td>\n",
       "      <td>41</td>\n",
       "      <td>1</td>\n",
       "      <td>83807.86</td>\n",
       "      <td>1</td>\n",
       "      <td>0</td>\n",
       "      <td>1</td>\n",
       "      <td>112542.58</td>\n",
       "      <td>0</td>\n",
       "    </tr>\n",
       "    <tr>\n",
       "      <th>2</th>\n",
       "      <td>502</td>\n",
       "      <td>France</td>\n",
       "      <td>Female</td>\n",
       "      <td>42</td>\n",
       "      <td>8</td>\n",
       "      <td>159660.80</td>\n",
       "      <td>3</td>\n",
       "      <td>1</td>\n",
       "      <td>0</td>\n",
       "      <td>113931.57</td>\n",
       "      <td>1</td>\n",
       "    </tr>\n",
       "    <tr>\n",
       "      <th>3</th>\n",
       "      <td>699</td>\n",
       "      <td>France</td>\n",
       "      <td>Female</td>\n",
       "      <td>39</td>\n",
       "      <td>1</td>\n",
       "      <td>0.00</td>\n",
       "      <td>2</td>\n",
       "      <td>0</td>\n",
       "      <td>0</td>\n",
       "      <td>93826.63</td>\n",
       "      <td>0</td>\n",
       "    </tr>\n",
       "    <tr>\n",
       "      <th>4</th>\n",
       "      <td>850</td>\n",
       "      <td>Spain</td>\n",
       "      <td>Female</td>\n",
       "      <td>43</td>\n",
       "      <td>2</td>\n",
       "      <td>125510.82</td>\n",
       "      <td>1</td>\n",
       "      <td>1</td>\n",
       "      <td>1</td>\n",
       "      <td>79084.10</td>\n",
       "      <td>0</td>\n",
       "    </tr>\n",
       "  </tbody>\n",
       "</table>\n",
       "</div>"
      ],
      "text/plain": [
       "   CreditScore Geography  Gender  Age  Tenure    Balance  NumOfProducts  \\\n",
       "0          619    France  Female   42       2       0.00              1   \n",
       "1          608     Spain  Female   41       1   83807.86              1   \n",
       "2          502    France  Female   42       8  159660.80              3   \n",
       "3          699    France  Female   39       1       0.00              2   \n",
       "4          850     Spain  Female   43       2  125510.82              1   \n",
       "\n",
       "   HasCrCard  IsActiveMember  EstimatedSalary  Exited  \n",
       "0          1               1        101348.88       1  \n",
       "1          0               1        112542.58       0  \n",
       "2          1               0        113931.57       1  \n",
       "3          0               0         93826.63       0  \n",
       "4          1               1         79084.10       0  "
      ]
     },
     "execution_count": 6,
     "metadata": {},
     "output_type": "execute_result"
    }
   ],
   "source": [
    "df.head()"
   ]
  },
  {
   "cell_type": "code",
   "execution_count": 7,
   "id": "e2aca7b5",
   "metadata": {},
   "outputs": [
    {
     "data": {
      "text/plain": [
       "(10000, 11)"
      ]
     },
     "execution_count": 7,
     "metadata": {},
     "output_type": "execute_result"
    }
   ],
   "source": [
    "df.shape"
   ]
  },
  {
   "cell_type": "code",
   "execution_count": 8,
   "id": "f38ad095",
   "metadata": {},
   "outputs": [
    {
     "name": "stdout",
     "output_type": "stream",
     "text": [
      "<class 'pandas.core.frame.DataFrame'>\n",
      "RangeIndex: 10000 entries, 0 to 9999\n",
      "Data columns (total 11 columns):\n",
      " #   Column           Non-Null Count  Dtype  \n",
      "---  ------           --------------  -----  \n",
      " 0   CreditScore      10000 non-null  int64  \n",
      " 1   Geography        10000 non-null  object \n",
      " 2   Gender           10000 non-null  object \n",
      " 3   Age              10000 non-null  int64  \n",
      " 4   Tenure           10000 non-null  int64  \n",
      " 5   Balance          10000 non-null  float64\n",
      " 6   NumOfProducts    10000 non-null  int64  \n",
      " 7   HasCrCard        10000 non-null  int64  \n",
      " 8   IsActiveMember   10000 non-null  int64  \n",
      " 9   EstimatedSalary  10000 non-null  float64\n",
      " 10  Exited           10000 non-null  int64  \n",
      "dtypes: float64(2), int64(7), object(2)\n",
      "memory usage: 859.5+ KB\n"
     ]
    }
   ],
   "source": [
    "df.info()"
   ]
  },
  {
   "cell_type": "code",
   "execution_count": 9,
   "id": "00c4bacd",
   "metadata": {},
   "outputs": [
    {
     "data": {
      "text/html": [
       "<div>\n",
       "<style scoped>\n",
       "    .dataframe tbody tr th:only-of-type {\n",
       "        vertical-align: middle;\n",
       "    }\n",
       "\n",
       "    .dataframe tbody tr th {\n",
       "        vertical-align: top;\n",
       "    }\n",
       "\n",
       "    .dataframe thead th {\n",
       "        text-align: right;\n",
       "    }\n",
       "</style>\n",
       "<table border=\"1\" class=\"dataframe\">\n",
       "  <thead>\n",
       "    <tr style=\"text-align: right;\">\n",
       "      <th></th>\n",
       "      <th>CreditScore</th>\n",
       "      <th>Age</th>\n",
       "      <th>Tenure</th>\n",
       "      <th>Balance</th>\n",
       "      <th>NumOfProducts</th>\n",
       "      <th>HasCrCard</th>\n",
       "      <th>IsActiveMember</th>\n",
       "      <th>EstimatedSalary</th>\n",
       "      <th>Exited</th>\n",
       "    </tr>\n",
       "  </thead>\n",
       "  <tbody>\n",
       "    <tr>\n",
       "      <th>count</th>\n",
       "      <td>10000.000000</td>\n",
       "      <td>10000.000000</td>\n",
       "      <td>10000.000000</td>\n",
       "      <td>10000.000000</td>\n",
       "      <td>10000.000000</td>\n",
       "      <td>10000.00000</td>\n",
       "      <td>10000.000000</td>\n",
       "      <td>10000.000000</td>\n",
       "      <td>10000.000000</td>\n",
       "    </tr>\n",
       "    <tr>\n",
       "      <th>mean</th>\n",
       "      <td>650.528800</td>\n",
       "      <td>38.921800</td>\n",
       "      <td>5.012800</td>\n",
       "      <td>76485.889288</td>\n",
       "      <td>1.530200</td>\n",
       "      <td>0.70550</td>\n",
       "      <td>0.515100</td>\n",
       "      <td>100090.239881</td>\n",
       "      <td>0.203700</td>\n",
       "    </tr>\n",
       "    <tr>\n",
       "      <th>std</th>\n",
       "      <td>96.653299</td>\n",
       "      <td>10.487806</td>\n",
       "      <td>2.892174</td>\n",
       "      <td>62397.405202</td>\n",
       "      <td>0.581654</td>\n",
       "      <td>0.45584</td>\n",
       "      <td>0.499797</td>\n",
       "      <td>57510.492818</td>\n",
       "      <td>0.402769</td>\n",
       "    </tr>\n",
       "    <tr>\n",
       "      <th>min</th>\n",
       "      <td>350.000000</td>\n",
       "      <td>18.000000</td>\n",
       "      <td>0.000000</td>\n",
       "      <td>0.000000</td>\n",
       "      <td>1.000000</td>\n",
       "      <td>0.00000</td>\n",
       "      <td>0.000000</td>\n",
       "      <td>11.580000</td>\n",
       "      <td>0.000000</td>\n",
       "    </tr>\n",
       "    <tr>\n",
       "      <th>25%</th>\n",
       "      <td>584.000000</td>\n",
       "      <td>32.000000</td>\n",
       "      <td>3.000000</td>\n",
       "      <td>0.000000</td>\n",
       "      <td>1.000000</td>\n",
       "      <td>0.00000</td>\n",
       "      <td>0.000000</td>\n",
       "      <td>51002.110000</td>\n",
       "      <td>0.000000</td>\n",
       "    </tr>\n",
       "    <tr>\n",
       "      <th>50%</th>\n",
       "      <td>652.000000</td>\n",
       "      <td>37.000000</td>\n",
       "      <td>5.000000</td>\n",
       "      <td>97198.540000</td>\n",
       "      <td>1.000000</td>\n",
       "      <td>1.00000</td>\n",
       "      <td>1.000000</td>\n",
       "      <td>100193.915000</td>\n",
       "      <td>0.000000</td>\n",
       "    </tr>\n",
       "    <tr>\n",
       "      <th>75%</th>\n",
       "      <td>718.000000</td>\n",
       "      <td>44.000000</td>\n",
       "      <td>7.000000</td>\n",
       "      <td>127644.240000</td>\n",
       "      <td>2.000000</td>\n",
       "      <td>1.00000</td>\n",
       "      <td>1.000000</td>\n",
       "      <td>149388.247500</td>\n",
       "      <td>0.000000</td>\n",
       "    </tr>\n",
       "    <tr>\n",
       "      <th>max</th>\n",
       "      <td>850.000000</td>\n",
       "      <td>92.000000</td>\n",
       "      <td>10.000000</td>\n",
       "      <td>250898.090000</td>\n",
       "      <td>4.000000</td>\n",
       "      <td>1.00000</td>\n",
       "      <td>1.000000</td>\n",
       "      <td>199992.480000</td>\n",
       "      <td>1.000000</td>\n",
       "    </tr>\n",
       "  </tbody>\n",
       "</table>\n",
       "</div>"
      ],
      "text/plain": [
       "        CreditScore           Age        Tenure        Balance  NumOfProducts  \\\n",
       "count  10000.000000  10000.000000  10000.000000   10000.000000   10000.000000   \n",
       "mean     650.528800     38.921800      5.012800   76485.889288       1.530200   \n",
       "std       96.653299     10.487806      2.892174   62397.405202       0.581654   \n",
       "min      350.000000     18.000000      0.000000       0.000000       1.000000   \n",
       "25%      584.000000     32.000000      3.000000       0.000000       1.000000   \n",
       "50%      652.000000     37.000000      5.000000   97198.540000       1.000000   \n",
       "75%      718.000000     44.000000      7.000000  127644.240000       2.000000   \n",
       "max      850.000000     92.000000     10.000000  250898.090000       4.000000   \n",
       "\n",
       "         HasCrCard  IsActiveMember  EstimatedSalary        Exited  \n",
       "count  10000.00000    10000.000000     10000.000000  10000.000000  \n",
       "mean       0.70550        0.515100    100090.239881      0.203700  \n",
       "std        0.45584        0.499797     57510.492818      0.402769  \n",
       "min        0.00000        0.000000        11.580000      0.000000  \n",
       "25%        0.00000        0.000000     51002.110000      0.000000  \n",
       "50%        1.00000        1.000000    100193.915000      0.000000  \n",
       "75%        1.00000        1.000000    149388.247500      0.000000  \n",
       "max        1.00000        1.000000    199992.480000      1.000000  "
      ]
     },
     "execution_count": 9,
     "metadata": {},
     "output_type": "execute_result"
    }
   ],
   "source": [
    "df.describe()"
   ]
  },
  {
   "cell_type": "code",
   "execution_count": 10,
   "id": "d59bfde0",
   "metadata": {},
   "outputs": [
    {
     "data": {
      "text/plain": [
       "CreditScore        0\n",
       "Geography          0\n",
       "Gender             0\n",
       "Age                0\n",
       "Tenure             0\n",
       "Balance            0\n",
       "NumOfProducts      0\n",
       "HasCrCard          0\n",
       "IsActiveMember     0\n",
       "EstimatedSalary    0\n",
       "Exited             0\n",
       "dtype: int64"
      ]
     },
     "execution_count": 10,
     "metadata": {},
     "output_type": "execute_result"
    }
   ],
   "source": [
    "df.isnull().sum()"
   ]
  },
  {
   "cell_type": "markdown",
   "id": "5423df23",
   "metadata": {},
   "source": [
    "* So we dont have any null value"
   ]
  },
  {
   "cell_type": "markdown",
   "id": "ce27f246",
   "metadata": {},
   "source": [
    "#### How each independent variable affecting the target variable"
   ]
  },
  {
   "cell_type": "markdown",
   "id": "4b6847d1",
   "metadata": {},
   "source": [
    "* Numerical variable\n",
    "* Categorical variable"
   ]
  },
  {
   "cell_type": "code",
   "execution_count": 11,
   "id": "a5b65583",
   "metadata": {},
   "outputs": [],
   "source": [
    "plt.style.use(\"ggplot\")"
   ]
  },
  {
   "cell_type": "code",
   "execution_count": 12,
   "id": "82756ac6",
   "metadata": {},
   "outputs": [
    {
     "data": {
      "image/png": "[encoded data removed]",
      "text/plain": [
       "<Figure size 1080x720 with 5 Axes>"
      ]
     },
     "metadata": {
      "needs_background": "light"
     },
     "output_type": "display_data"
    }
   ],
   "source": [
    "plt.figure(figsize=(15,10))\n",
    "plt.subplot(2,3,1)\n",
    "plt.hist(df[\"CreditScore\"],color=\"skyblue\",edgecolor=\"black\")\n",
    "plt.title(\"Credit score count plot\")\n",
    "plt.subplot(2,3,2)\n",
    "sns.distplot(df[\"CreditScore\"],fit=norm,color=\"green\")\n",
    "plt.title(\"Credit score distplot\")\n",
    "plt.subplot(2,3,3)\n",
    "sns.barplot(df[\"Exited\"],df[\"CreditScore\"])\n",
    "plt.title(\"Credit score vs Exited\")\n",
    "plt.subplot(2,3,4)\n",
    "sns.boxplot(df[\"Exited\"],df[\"CreditScore\"])\n",
    "plt.title(\"CreditScore vs Exited\")\n",
    "plt.subplot(2,3,5)\n",
    "stats.probplot(df[\"CreditScore\"],plot=plt)\n",
    "plt.show()"
   ]
  },
  {
   "cell_type": "markdown",
   "id": "73c5d214",
   "metadata": {},
   "source": [
    "* 1 From first plot we can see most of the customers have credit score b/w 600 to 700\n",
    "* 2.From seonnd and fifth plot it seems the data is normal distributed\n",
    "* 3.From third plot it is difficult to guess any effect of credit score on Exited"
   ]
  },
  {
   "cell_type": "code",
   "execution_count": 13,
   "id": "0da5d65e",
   "metadata": {},
   "outputs": [
    {
     "data": {
      "image/png": "[encoded data removed]",
      "text/plain": [
       "<Figure size 1080x720 with 5 Axes>"
      ]
     },
     "metadata": {
      "needs_background": "light"
     },
     "output_type": "display_data"
    }
   ],
   "source": [
    "plt.figure(figsize=(15,10))\n",
    "plt.subplot(2,3,1)\n",
    "plt.hist(df[\"Balance\"],color=\"skyblue\",edgecolor=\"black\")\n",
    "plt.title(\"Balance count plot\")\n",
    "plt.subplot(2,3,2)\n",
    "sns.distplot(df[\"Balance\"],fit=norm,color=\"green\")\n",
    "plt.title(\"Balance distplot\")\n",
    "plt.subplot(2,3,3)\n",
    "sns.barplot(df[\"Exited\"],df[\"Balance\"])\n",
    "plt.title(\"Balance vs Exited\")\n",
    "plt.subplot(2,3,4)\n",
    "sns.boxplot(df[\"Exited\"],df[\"Balance\"])\n",
    "plt.title(\"Balance vs Exited\")\n",
    "plt.subplot(2,3,5)\n",
    "stats.probplot(df[\"Balance\"],plot=plt)\n",
    "plt.show()"
   ]
  },
  {
   "cell_type": "markdown",
   "id": "4d8c19a0",
   "metadata": {},
   "source": [
    "* 1.From the first plot we can see most of the customers have balance from 0 to 25000\n",
    "* 2 From the third plot we can see those customers have more than 80000 in balance are more likely to leave"
   ]
  },
  {
   "cell_type": "code",
   "execution_count": 14,
   "id": "2b44ff20",
   "metadata": {},
   "outputs": [
    {
     "data": {
      "image/png": "[encoded data removed]",
      "text/plain": [
       "<Figure size 1080x720 with 5 Axes>"
      ]
     },
     "metadata": {
      "needs_background": "light"
     },
     "output_type": "display_data"
    }
   ],
   "source": [
    "plt.figure(figsize=(15,10))\n",
    "plt.subplot(2,3,1)\n",
    "plt.hist(df[\"EstimatedSalary\"],color=\"skyblue\",edgecolor=\"black\")\n",
    "plt.title(\"salary count plot\")\n",
    "plt.subplot(2,3,2)\n",
    "sns.distplot(df[\"EstimatedSalary\"],fit=norm,color=\"green\")\n",
    "plt.title(\"Salary distplot\")\n",
    "plt.subplot(2,3,3)\n",
    "sns.barplot(df[\"Exited\"],df[\"EstimatedSalary\"])\n",
    "plt.title(\"Salary vs Exited\")\n",
    "plt.subplot(2,3,4)\n",
    "sns.boxplot(df[\"Exited\"],df[\"EstimatedSalary\"])\n",
    "plt.title(\"Salary vs Exited\")\n",
    "plt.subplot(2,3,5)\n",
    "stats.probplot(df[\"EstimatedSalary\"],plot=plt)\n",
    "plt.show()"
   ]
  },
  {
   "cell_type": "code",
   "execution_count": 15,
   "id": "e764399e",
   "metadata": {},
   "outputs": [
    {
     "data": {
      "image/png": "[encoded data removed]",
      "text/plain": [
       "<Figure size 1080x720 with 5 Axes>"
      ]
     },
     "metadata": {
      "needs_background": "light"
     },
     "output_type": "display_data"
    }
   ],
   "source": [
    "plt.figure(figsize=(15,10))\n",
    "plt.subplot(2,3,1)\n",
    "plt.hist(df[\"Age\"],color=\"skyblue\",edgecolor=\"black\")\n",
    "plt.title(\"Age count plot\")\n",
    "plt.subplot(2,3,2)\n",
    "sns.distplot(df[\"Age\"],fit=norm,color=\"green\")\n",
    "plt.title(\"Age distplot\")\n",
    "plt.subplot(2,3,3)\n",
    "sns.barplot(df[\"Exited\"],df[\"Age\"])\n",
    "plt.title(\"Age vs Exited\")\n",
    "plt.subplot(2,3,4)\n",
    "sns.boxplot(df[\"Exited\"],df[\"Age\"])\n",
    "plt.title(\"Age vs Exited\")\n",
    "plt.subplot(2,3,5)\n",
    "stats.probplot(df[\"Age\"],plot=plt)\n",
    "plt.show()"
   ]
  },
  {
   "cell_type": "markdown",
   "id": "671209e0",
   "metadata": {},
   "source": [
    "* 1.From the first plot we can see most of cutomers have age from 20 to 40 years\n",
    "* 2.From the thrid plot we can see those customers have age more than 40 years are more likely to leave\n",
    "* 3.From the fourth plot we can also see the median difference "
   ]
  },
  {
   "cell_type": "code",
   "execution_count": 16,
   "id": "1a4a4731",
   "metadata": {},
   "outputs": [
    {
     "data": {
      "image/png": "[encoded data removed]",
      "text/plain": [
       "<Figure size 432x288 with 1 Axes>"
      ]
     },
     "metadata": {
      "needs_background": "light"
     },
     "output_type": "display_data"
    },
    {
     "data": {
      "image/png": "[encoded data removed]",
      "text/plain": [
       "<Figure size 432x288 with 1 Axes>"
      ]
     },
     "metadata": {
      "needs_background": "light"
     },
     "output_type": "display_data"
    }
   ],
   "source": [
    "plt.figure(figsize=(6,4))\n",
    "plt.hist(df[\"Geography\"],color=\"skyblue\",edgecolor=\"brown\")\n",
    "plt.title (\"Frequency distribution of Geography\")\n",
    "pd.crosstab(df[\"Geography\"],df[\"Exited\"]).plot(kind=\"bar\")\n",
    "plt.show()"
   ]
  },
  {
   "cell_type": "markdown",
   "id": "147342b5",
   "metadata": {},
   "source": [
    "* From the first plot we can see in our dataset lot of customers are from France\n",
    "* From the second plot we can see customers from spain are less likely to leave"
   ]
  },
  {
   "cell_type": "code",
   "execution_count": 17,
   "id": "a9c438a9",
   "metadata": {},
   "outputs": [
    {
     "data": {
      "image/png": "[encoded data removed]",
      "text/plain": [
       "<Figure size 432x288 with 1 Axes>"
      ]
     },
     "metadata": {
      "needs_background": "light"
     },
     "output_type": "display_data"
    },
    {
     "data": {
      "image/png": "[encoded data removed]",
      "text/plain": [
       "<Figure size 432x288 with 1 Axes>"
      ]
     },
     "metadata": {
      "needs_background": "light"
     },
     "output_type": "display_data"
    }
   ],
   "source": [
    "plt.figure(figsize=(6,4))\n",
    "plt.hist(df[\"Gender\"],color=\"skyblue\",edgecolor=\"black\")\n",
    "pd.crosstab(df[\"Gender\"],df[\"Exited\"]).plot(kind=\"bar\")\n",
    "plt.show()"
   ]
  },
  {
   "cell_type": "markdown",
   "id": "b1b6f326",
   "metadata": {},
   "source": [
    "* From the first plot we can see males are more than female\n",
    "* From the second plot we can see female are more likely to leave"
   ]
  },
  {
   "cell_type": "code",
   "execution_count": 18,
   "id": "f0655aaa",
   "metadata": {},
   "outputs": [
    {
     "data": {
      "image/png": "[encoded data removed]",
      "text/plain": [
       "<Figure size 432x288 with 1 Axes>"
      ]
     },
     "metadata": {
      "needs_background": "light"
     },
     "output_type": "display_data"
    },
    {
     "data": {
      "image/png": "[encoded data removed]",
      "text/plain": [
       "<Figure size 432x288 with 1 Axes>"
      ]
     },
     "metadata": {
      "needs_background": "light"
     },
     "output_type": "display_data"
    }
   ],
   "source": [
    "plt.figure(figsize=(6,4))\n",
    "plt.hist(df[\"Tenure\"],color=\"skyblue\",edgecolor=\"black\")\n",
    "pd.crosstab(df[\"Tenure\"],df[\"Exited\"]).plot(kind=\"bar\")\n",
    "plt.show()"
   ]
  },
  {
   "cell_type": "code",
   "execution_count": 19,
   "id": "e4716ee8",
   "metadata": {},
   "outputs": [
    {
     "data": {
      "image/png": "[encoded data removed]",
      "text/plain": [
       "<Figure size 432x288 with 1 Axes>"
      ]
     },
     "metadata": {
      "needs_background": "light"
     },
     "output_type": "display_data"
    },
    {
     "data": {
      "image/png": "[encoded data removed]",
      "text/plain": [
       "<Figure size 432x288 with 1 Axes>"
      ]
     },
     "metadata": {
      "needs_background": "light"
     },
     "output_type": "display_data"
    }
   ],
   "source": [
    "plt.figure(figsize=(6,4))\n",
    "plt.hist(df[\"NumOfProducts\"],color=\"skyblue\",edgecolor=\"black\")\n",
    "pd.crosstab(df[\"NumOfProducts\"],df[\"Exited\"]).plot(kind=\"bar\")\n",
    "plt.show()"
   ]
  },
  {
   "cell_type": "markdown",
   "id": "4ebbc640",
   "metadata": {},
   "source": [
    "* From the first plot we can see most of customers have taken only one product(like personal loan,education loan)\n",
    "* From the second plot we can see the trend like if the customer have taken more products are less likely to leave the bank"
   ]
  },
  {
   "cell_type": "code",
   "execution_count": 20,
   "id": "7a82151c",
   "metadata": {},
   "outputs": [
    {
     "data": {
      "image/png": "[encoded data removed]",
      "text/plain": [
       "<Figure size 432x288 with 1 Axes>"
      ]
     },
     "metadata": {
      "needs_background": "light"
     },
     "output_type": "display_data"
    },
    {
     "data": {
      "image/png": "[encoded data removed]",
      "text/plain": [
       "<Figure size 432x288 with 1 Axes>"
      ]
     },
     "metadata": {
      "needs_background": "light"
     },
     "output_type": "display_data"
    }
   ],
   "source": [
    "plt.figure(figsize=(6,4))\n",
    "plt.hist(df[\"HasCrCard\"],color=\"skyblue\",edgecolor=\"black\")\n",
    "pd.crosstab(df[\"HasCrCard\"],df[\"Exited\"]).plot(kind=\"bar\")\n",
    "plt.show()"
   ]
  },
  {
   "cell_type": "markdown",
   "id": "747ccb2e",
   "metadata": {},
   "source": [
    "* From the first plot we can see lot of customers have credit card(1 means yes)\n",
    "* From the second plot we cant comment we need to take in terms of percentage then\n",
    "we will decide"
   ]
  },
  {
   "cell_type": "code",
   "execution_count": 21,
   "id": "6807cfcd",
   "metadata": {},
   "outputs": [
    {
     "data": {
      "text/plain": [
       "0    0.791851\n",
       "1    0.208149\n",
       "Name: Exited, dtype: float64"
      ]
     },
     "execution_count": 21,
     "metadata": {},
     "output_type": "execute_result"
    }
   ],
   "source": [
    "df[df[\"HasCrCard\"]==0][\"Exited\"].value_counts(normalize=True)"
   ]
  },
  {
   "cell_type": "code",
   "execution_count": 22,
   "id": "66b34dd8",
   "metadata": {
    "scrolled": false
   },
   "outputs": [
    {
     "data": {
      "text/plain": [
       "0    0.798157\n",
       "1    0.201843\n",
       "Name: Exited, dtype: float64"
      ]
     },
     "execution_count": 22,
     "metadata": {},
     "output_type": "execute_result"
    }
   ],
   "source": [
    "df[df[\"HasCrCard\"]==1][\"Exited\"].value_counts(normalize=True)"
   ]
  },
  {
   "cell_type": "markdown",
   "id": "e8a7f2db",
   "metadata": {},
   "source": [
    "* So there is no any effect on exited "
   ]
  },
  {
   "cell_type": "code",
   "execution_count": 23,
   "id": "05fdda46",
   "metadata": {},
   "outputs": [
    {
     "data": {
      "image/png": "[encoded data removed]",
      "text/plain": [
       "<Figure size 432x288 with 1 Axes>"
      ]
     },
     "metadata": {
      "needs_background": "light"
     },
     "output_type": "display_data"
    },
    {
     "data": {
      "image/png": "[encoded data removed]",
      "text/plain": [
       "<Figure size 432x288 with 1 Axes>"
      ]
     },
     "metadata": {
      "needs_background": "light"
     },
     "output_type": "display_data"
    }
   ],
   "source": [
    "plt.figure(figsize=(6,4))\n",
    "plt.hist(df[\"IsActiveMember\"],color=\"skyblue\",edgecolor=\"black\")\n",
    "pd.crosstab(df[\"IsActiveMember\"],df[\"Exited\"]).plot(kind=\"bar\")\n",
    "plt.show()"
   ]
  },
  {
   "cell_type": "markdown",
   "id": "6606d466",
   "metadata": {},
   "source": [
    "* From the first plot we can see slightly more number of customers are activemember\n",
    "* From the second plto we can see those customers who are activemember are less likely to leave"
   ]
  },
  {
   "cell_type": "code",
   "execution_count": 24,
   "id": "8acdb1d3",
   "metadata": {},
   "outputs": [
    {
     "data": {
      "image/png": "[encoded data removed]",
      "text/plain": [
       "<Figure size 720x432 with 2 Axes>"
      ]
     },
     "metadata": {
      "needs_background": "light"
     },
     "output_type": "display_data"
    }
   ],
   "source": [
    "plt.figure(figsize=(10,6))\n",
    "sns.heatmap(df.corr(),annot=True,cmap=\"Greens\")\n",
    "plt.show()"
   ]
  },
  {
   "cell_type": "markdown",
   "id": "fd113e67",
   "metadata": {},
   "source": [
    "* So there is no multicolinearity in the dataset"
   ]
  },
  {
   "cell_type": "markdown",
   "id": "65aff3c2",
   "metadata": {},
   "source": [
    "#### Analysis of dependent variable"
   ]
  },
  {
   "cell_type": "code",
   "execution_count": 25,
   "id": "73bfac61",
   "metadata": {},
   "outputs": [],
   "source": [
    "values=df[\"Exited\"].value_counts().values\n",
    "index=df[\"Exited\"].value_counts().index"
   ]
  },
  {
   "cell_type": "code",
   "execution_count": 26,
   "id": "5ddc31bc",
   "metadata": {},
   "outputs": [
    {
     "data": {
      "image/png": "[encoded data removed]",
      "text/plain": [
       "<Figure size 720x288 with 2 Axes>"
      ]
     },
     "metadata": {
      "needs_background": "light"
     },
     "output_type": "display_data"
    }
   ],
   "source": [
    "plt.figure(figsize=(10,4))\n",
    "plt.subplot(1,2,1)\n",
    "plt.pie(values,labels=index,radius=1.25,autopct=\"%0.2F%%\")\n",
    "my_circle=plt.Circle( (0,0), 0.5, color='skyblue')\n",
    "p=plt.gcf()\n",
    "p.gca().add_artist(my_circle)\n",
    "plt.legend()\n",
    "plt.subplot(1,2,2)\n",
    "sns.countplot(df[\"Exited\"])\n",
    "plt.show()"
   ]
  },
  {
   "cell_type": "markdown",
   "id": "8ddfde9c",
   "metadata": {},
   "source": [
    "* From the plots we can see we have a imbalanced dataset we need to fix this"
   ]
  },
  {
   "cell_type": "markdown",
   "id": "b92f2049",
   "metadata": {},
   "source": [
    "#### Checking outliers"
   ]
  },
  {
   "cell_type": "code",
   "execution_count": 27,
   "id": "c1a90a7a",
   "metadata": {},
   "outputs": [
    {
     "data": {
      "image/png": "[encoded data removed]",
      "text/plain": [
       "<Figure size 720x432 with 4 Axes>"
      ]
     },
     "metadata": {
      "needs_background": "light"
     },
     "output_type": "display_data"
    }
   ],
   "source": [
    "plt.figure(figsize=(10,6))\n",
    "columns=[\"Balance\",\"EstimatedSalary\",\"Age\",\"CreditScore\"]\n",
    "for i in range(0,len(columns)):\n",
    "    plt.subplot(2,2,i+1)\n",
    "    sns.boxplot(y=df[columns[i]])\n",
    "plt.show()"
   ]
  },
  {
   "cell_type": "markdown",
   "id": "6c50a91d",
   "metadata": {},
   "source": [
    "* Actually we dont have outliers upper hence is continous to last data point\n",
    "  means they are not extreme"
   ]
  },
  {
   "cell_type": "markdown",
   "id": "4555cb8b",
   "metadata": {},
   "source": [
    "#### Now we will remove skewness from data  \n",
    "- Estimated Salary"
   ]
  },
  {
   "cell_type": "code",
   "execution_count": 28,
   "id": "cefca79a",
   "metadata": {},
   "outputs": [],
   "source": [
    "df[\"EstimatedSalary\"],lam_Estimated_Salary=boxcox(df[\"EstimatedSalary\"])"
   ]
  },
  {
   "cell_type": "markdown",
   "id": "ab749002",
   "metadata": {},
   "source": [
    "#### Encoding categorical data\n",
    "- gender column\n",
    "- geography column"
   ]
  },
  {
   "cell_type": "code",
   "execution_count": 29,
   "id": "3ac0a329",
   "metadata": {},
   "outputs": [],
   "source": [
    "from sklearn.preprocessing import LabelEncoder\n",
    "from sklearn.preprocessing import OneHotEncoder"
   ]
  },
  {
   "cell_type": "code",
   "execution_count": 30,
   "id": "cab78380",
   "metadata": {},
   "outputs": [],
   "source": [
    "le=LabelEncoder()\n",
    "df[\"Gender\"]=le.fit_transform(df[\"Gender\"])\n",
    "# fit_transform"
   ]
  },
  {
   "cell_type": "code",
   "execution_count": 31,
   "id": "650a0eff",
   "metadata": {},
   "outputs": [
    {
     "data": {
      "text/plain": [
       "1    5457\n",
       "0    4543\n",
       "Name: Gender, dtype: int64"
      ]
     },
     "execution_count": 31,
     "metadata": {},
     "output_type": "execute_result"
    }
   ],
   "source": [
    "df[\"Gender\"].value_counts()"
   ]
  },
  {
   "cell_type": "markdown",
   "id": "927de937",
   "metadata": {},
   "source": [
    "#### One hot encoding "
   ]
  },
  {
   "cell_type": "code",
   "execution_count": 32,
   "id": "39f764a3",
   "metadata": {},
   "outputs": [],
   "source": [
    "a=pd.get_dummies(df[\"Geography\"])\n",
    "a=a.drop(a.columns[-1],axis=1)\n",
    "df=pd.concat([df,a],axis=1)\n",
    "df.drop(\"Geography\",axis=1,inplace=True)"
   ]
  },
  {
   "cell_type": "code",
   "execution_count": 33,
   "id": "5c0fce9e",
   "metadata": {
    "scrolled": false
   },
   "outputs": [
    {
     "data": {
      "text/html": [
       "<div>\n",
       "<style scoped>\n",
       "    .dataframe tbody tr th:only-of-type {\n",
       "        vertical-align: middle;\n",
       "    }\n",
       "\n",
       "    .dataframe tbody tr th {\n",
       "        vertical-align: top;\n",
       "    }\n",
       "\n",
       "    .dataframe thead th {\n",
       "        text-align: right;\n",
       "    }\n",
       "</style>\n",
       "<table border=\"1\" class=\"dataframe\">\n",
       "  <thead>\n",
       "    <tr style=\"text-align: right;\">\n",
       "      <th></th>\n",
       "      <th>CreditScore</th>\n",
       "      <th>Gender</th>\n",
       "      <th>Age</th>\n",
       "      <th>Tenure</th>\n",
       "      <th>Balance</th>\n",
       "      <th>NumOfProducts</th>\n",
       "      <th>HasCrCard</th>\n",
       "      <th>IsActiveMember</th>\n",
       "      <th>EstimatedSalary</th>\n",
       "      <th>Exited</th>\n",
       "      <th>France</th>\n",
       "      <th>Germany</th>\n",
       "    </tr>\n",
       "  </thead>\n",
       "  <tbody>\n",
       "    <tr>\n",
       "      <th>0</th>\n",
       "      <td>619</td>\n",
       "      <td>0</td>\n",
       "      <td>42</td>\n",
       "      <td>2</td>\n",
       "      <td>0.00</td>\n",
       "      <td>1</td>\n",
       "      <td>1</td>\n",
       "      <td>1</td>\n",
       "      <td>5151.740581</td>\n",
       "      <td>1</td>\n",
       "      <td>1</td>\n",
       "      <td>0</td>\n",
       "    </tr>\n",
       "    <tr>\n",
       "      <th>1</th>\n",
       "      <td>608</td>\n",
       "      <td>0</td>\n",
       "      <td>41</td>\n",
       "      <td>1</td>\n",
       "      <td>83807.86</td>\n",
       "      <td>1</td>\n",
       "      <td>0</td>\n",
       "      <td>1</td>\n",
       "      <td>5550.872423</td>\n",
       "      <td>0</td>\n",
       "      <td>0</td>\n",
       "      <td>0</td>\n",
       "    </tr>\n",
       "    <tr>\n",
       "      <th>2</th>\n",
       "      <td>502</td>\n",
       "      <td>0</td>\n",
       "      <td>42</td>\n",
       "      <td>8</td>\n",
       "      <td>159660.80</td>\n",
       "      <td>3</td>\n",
       "      <td>1</td>\n",
       "      <td>0</td>\n",
       "      <td>5599.582848</td>\n",
       "      <td>1</td>\n",
       "      <td>1</td>\n",
       "      <td>0</td>\n",
       "    </tr>\n",
       "    <tr>\n",
       "      <th>3</th>\n",
       "      <td>699</td>\n",
       "      <td>0</td>\n",
       "      <td>39</td>\n",
       "      <td>1</td>\n",
       "      <td>0.00</td>\n",
       "      <td>2</td>\n",
       "      <td>0</td>\n",
       "      <td>0</td>\n",
       "      <td>4876.377126</td>\n",
       "      <td>0</td>\n",
       "      <td>1</td>\n",
       "      <td>0</td>\n",
       "    </tr>\n",
       "    <tr>\n",
       "      <th>4</th>\n",
       "      <td>850</td>\n",
       "      <td>0</td>\n",
       "      <td>43</td>\n",
       "      <td>2</td>\n",
       "      <td>125510.82</td>\n",
       "      <td>1</td>\n",
       "      <td>1</td>\n",
       "      <td>1</td>\n",
       "      <td>4317.352235</td>\n",
       "      <td>0</td>\n",
       "      <td>0</td>\n",
       "      <td>0</td>\n",
       "    </tr>\n",
       "  </tbody>\n",
       "</table>\n",
       "</div>"
      ],
      "text/plain": [
       "   CreditScore  Gender  Age  Tenure    Balance  NumOfProducts  HasCrCard  \\\n",
       "0          619       0   42       2       0.00              1          1   \n",
       "1          608       0   41       1   83807.86              1          0   \n",
       "2          502       0   42       8  159660.80              3          1   \n",
       "3          699       0   39       1       0.00              2          0   \n",
       "4          850       0   43       2  125510.82              1          1   \n",
       "\n",
       "   IsActiveMember  EstimatedSalary  Exited  France  Germany  \n",
       "0               1      5151.740581       1       1        0  \n",
       "1               1      5550.872423       0       0        0  \n",
       "2               0      5599.582848       1       1        0  \n",
       "3               0      4876.377126       0       1        0  \n",
       "4               1      4317.352235       0       0        0  "
      ]
     },
     "execution_count": 33,
     "metadata": {},
     "output_type": "execute_result"
    }
   ],
   "source": [
    "df.head()"
   ]
  },
  {
   "cell_type": "code",
   "execution_count": 34,
   "id": "ce0595d6",
   "metadata": {},
   "outputs": [
    {
     "data": {
      "text/plain": [
       "1    5151\n",
       "0    4849\n",
       "Name: IsActiveMember, dtype: int64"
      ]
     },
     "execution_count": 34,
     "metadata": {},
     "output_type": "execute_result"
    }
   ],
   "source": [
    "df[\"IsActiveMember\"].value_counts()"
   ]
  },
  {
   "cell_type": "markdown",
   "id": "766d63fc",
   "metadata": {},
   "source": [
    "#### Spliting the dataset into train and test"
   ]
  },
  {
   "cell_type": "code",
   "execution_count": 35,
   "id": "12c01918",
   "metadata": {},
   "outputs": [],
   "source": [
    "from sklearn.model_selection import train_test_split"
   ]
  },
  {
   "cell_type": "code",
   "execution_count": 36,
   "id": "3dfed9c5",
   "metadata": {},
   "outputs": [],
   "source": [
    "X=df.drop(\"Exited\",axis=1)\n",
    "y=df[\"Exited\"]"
   ]
  },
  {
   "cell_type": "markdown",
   "id": "f88da0c1",
   "metadata": {},
   "source": [
    "#### Balance the class Exited"
   ]
  },
  {
   "cell_type": "code",
   "execution_count": 37,
   "id": "d980b84d",
   "metadata": {},
   "outputs": [],
   "source": [
    "from imblearn.over_sampling import SMOTE\n",
    "smote=SMOTE(sampling_strategy=\"minority\")\n",
    "# fit_resample"
   ]
  },
  {
   "cell_type": "code",
   "execution_count": 38,
   "id": "802feef7",
   "metadata": {},
   "outputs": [],
   "source": [
    "X,y=smote.fit_resample(X,y)"
   ]
  },
  {
   "cell_type": "code",
   "execution_count": 39,
   "id": "1cbb346c",
   "metadata": {},
   "outputs": [
    {
     "data": {
      "text/plain": [
       "1    7963\n",
       "0    7963\n",
       "Name: Exited, dtype: int64"
      ]
     },
     "execution_count": 39,
     "metadata": {},
     "output_type": "execute_result"
    }
   ],
   "source": [
    "y.value_counts()"
   ]
  },
  {
   "cell_type": "code",
   "execution_count": 40,
   "id": "cf4da9c5",
   "metadata": {},
   "outputs": [],
   "source": [
    "X_train,X_test,y_train,y_test=train_test_split(X,y,test_size=0.2,random_state=0,stratify=y)"
   ]
  },
  {
   "cell_type": "code",
   "execution_count": 41,
   "id": "1754d0da",
   "metadata": {},
   "outputs": [
    {
     "data": {
      "text/html": [
       "<div>\n",
       "<style scoped>\n",
       "    .dataframe tbody tr th:only-of-type {\n",
       "        vertical-align: middle;\n",
       "    }\n",
       "\n",
       "    .dataframe tbody tr th {\n",
       "        vertical-align: top;\n",
       "    }\n",
       "\n",
       "    .dataframe thead th {\n",
       "        text-align: right;\n",
       "    }\n",
       "</style>\n",
       "<table border=\"1\" class=\"dataframe\">\n",
       "  <thead>\n",
       "    <tr style=\"text-align: right;\">\n",
       "      <th></th>\n",
       "      <th>CreditScore</th>\n",
       "      <th>Gender</th>\n",
       "      <th>Age</th>\n",
       "      <th>Tenure</th>\n",
       "      <th>Balance</th>\n",
       "      <th>NumOfProducts</th>\n",
       "      <th>HasCrCard</th>\n",
       "      <th>IsActiveMember</th>\n",
       "      <th>EstimatedSalary</th>\n",
       "      <th>France</th>\n",
       "      <th>Germany</th>\n",
       "    </tr>\n",
       "  </thead>\n",
       "  <tbody>\n",
       "    <tr>\n",
       "      <th>12497</th>\n",
       "      <td>613</td>\n",
       "      <td>0</td>\n",
       "      <td>46</td>\n",
       "      <td>5</td>\n",
       "      <td>150197.674711</td>\n",
       "      <td>1</td>\n",
       "      <td>1</td>\n",
       "      <td>0</td>\n",
       "      <td>5926.080971</td>\n",
       "      <td>1</td>\n",
       "      <td>0</td>\n",
       "    </tr>\n",
       "    <tr>\n",
       "      <th>15699</th>\n",
       "      <td>557</td>\n",
       "      <td>0</td>\n",
       "      <td>71</td>\n",
       "      <td>7</td>\n",
       "      <td>114936.092678</td>\n",
       "      <td>1</td>\n",
       "      <td>0</td>\n",
       "      <td>0</td>\n",
       "      <td>3854.991698</td>\n",
       "      <td>0</td>\n",
       "      <td>1</td>\n",
       "    </tr>\n",
       "    <tr>\n",
       "      <th>4877</th>\n",
       "      <td>737</td>\n",
       "      <td>1</td>\n",
       "      <td>44</td>\n",
       "      <td>7</td>\n",
       "      <td>0.000000</td>\n",
       "      <td>2</td>\n",
       "      <td>0</td>\n",
       "      <td>0</td>\n",
       "      <td>3457.401464</td>\n",
       "      <td>1</td>\n",
       "      <td>0</td>\n",
       "    </tr>\n",
       "    <tr>\n",
       "      <th>5406</th>\n",
       "      <td>516</td>\n",
       "      <td>0</td>\n",
       "      <td>47</td>\n",
       "      <td>6</td>\n",
       "      <td>109387.330000</td>\n",
       "      <td>1</td>\n",
       "      <td>0</td>\n",
       "      <td>0</td>\n",
       "      <td>5857.443762</td>\n",
       "      <td>1</td>\n",
       "      <td>0</td>\n",
       "    </tr>\n",
       "    <tr>\n",
       "      <th>2655</th>\n",
       "      <td>850</td>\n",
       "      <td>1</td>\n",
       "      <td>53</td>\n",
       "      <td>2</td>\n",
       "      <td>94078.970000</td>\n",
       "      <td>2</td>\n",
       "      <td>1</td>\n",
       "      <td>0</td>\n",
       "      <td>2512.133652</td>\n",
       "      <td>0</td>\n",
       "      <td>1</td>\n",
       "    </tr>\n",
       "  </tbody>\n",
       "</table>\n",
       "</div>"
      ],
      "text/plain": [
       "       CreditScore  Gender  Age  Tenure        Balance  NumOfProducts  \\\n",
       "12497          613       0   46       5  150197.674711              1   \n",
       "15699          557       0   71       7  114936.092678              1   \n",
       "4877           737       1   44       7       0.000000              2   \n",
       "5406           516       0   47       6  109387.330000              1   \n",
       "2655           850       1   53       2   94078.970000              2   \n",
       "\n",
       "       HasCrCard  IsActiveMember  EstimatedSalary  France  Germany  \n",
       "12497          1               0      5926.080971       1        0  \n",
       "15699          0               0      3854.991698       0        1  \n",
       "4877           0               0      3457.401464       1        0  \n",
       "5406           0               0      5857.443762       1        0  \n",
       "2655           1               0      2512.133652       0        1  "
      ]
     },
     "execution_count": 41,
     "metadata": {},
     "output_type": "execute_result"
    }
   ],
   "source": [
    "X_train.head()"
   ]
  },
  {
   "cell_type": "code",
   "execution_count": 42,
   "id": "3440b872",
   "metadata": {},
   "outputs": [
    {
     "data": {
      "text/plain": [
       "(12740, 11)"
      ]
     },
     "execution_count": 42,
     "metadata": {},
     "output_type": "execute_result"
    }
   ],
   "source": [
    "X_train.shape"
   ]
  },
  {
   "cell_type": "code",
   "execution_count": 43,
   "id": "3adcb1e4",
   "metadata": {},
   "outputs": [
    {
     "data": {
      "text/plain": [
       "12497    1\n",
       "15699    1\n",
       "4877     0\n",
       "5406     0\n",
       "2655     0\n",
       "Name: Exited, dtype: int64"
      ]
     },
     "execution_count": 43,
     "metadata": {},
     "output_type": "execute_result"
    }
   ],
   "source": [
    "y_train.head()"
   ]
  },
  {
   "cell_type": "code",
   "execution_count": 44,
   "id": "3487aeea",
   "metadata": {},
   "outputs": [
    {
     "data": {
      "text/html": [
       "<div>\n",
       "<style scoped>\n",
       "    .dataframe tbody tr th:only-of-type {\n",
       "        vertical-align: middle;\n",
       "    }\n",
       "\n",
       "    .dataframe tbody tr th {\n",
       "        vertical-align: top;\n",
       "    }\n",
       "\n",
       "    .dataframe thead th {\n",
       "        text-align: right;\n",
       "    }\n",
       "</style>\n",
       "<table border=\"1\" class=\"dataframe\">\n",
       "  <thead>\n",
       "    <tr style=\"text-align: right;\">\n",
       "      <th></th>\n",
       "      <th>CreditScore</th>\n",
       "      <th>Gender</th>\n",
       "      <th>Age</th>\n",
       "      <th>Tenure</th>\n",
       "      <th>Balance</th>\n",
       "      <th>NumOfProducts</th>\n",
       "      <th>HasCrCard</th>\n",
       "      <th>IsActiveMember</th>\n",
       "      <th>EstimatedSalary</th>\n",
       "      <th>France</th>\n",
       "      <th>Germany</th>\n",
       "    </tr>\n",
       "  </thead>\n",
       "  <tbody>\n",
       "    <tr>\n",
       "      <th>8508</th>\n",
       "      <td>678</td>\n",
       "      <td>1</td>\n",
       "      <td>27</td>\n",
       "      <td>2</td>\n",
       "      <td>0.000000</td>\n",
       "      <td>2</td>\n",
       "      <td>1</td>\n",
       "      <td>1</td>\n",
       "      <td>1206.946230</td>\n",
       "      <td>0</td>\n",
       "      <td>0</td>\n",
       "    </tr>\n",
       "    <tr>\n",
       "      <th>5963</th>\n",
       "      <td>850</td>\n",
       "      <td>0</td>\n",
       "      <td>40</td>\n",
       "      <td>7</td>\n",
       "      <td>104449.800000</td>\n",
       "      <td>1</td>\n",
       "      <td>1</td>\n",
       "      <td>1</td>\n",
       "      <td>154.874141</td>\n",
       "      <td>0</td>\n",
       "      <td>1</td>\n",
       "    </tr>\n",
       "    <tr>\n",
       "      <th>14767</th>\n",
       "      <td>576</td>\n",
       "      <td>1</td>\n",
       "      <td>36</td>\n",
       "      <td>1</td>\n",
       "      <td>90199.787582</td>\n",
       "      <td>1</td>\n",
       "      <td>1</td>\n",
       "      <td>0</td>\n",
       "      <td>7892.474398</td>\n",
       "      <td>0</td>\n",
       "      <td>0</td>\n",
       "    </tr>\n",
       "    <tr>\n",
       "      <th>6971</th>\n",
       "      <td>554</td>\n",
       "      <td>0</td>\n",
       "      <td>44</td>\n",
       "      <td>9</td>\n",
       "      <td>135814.700000</td>\n",
       "      <td>2</td>\n",
       "      <td>0</td>\n",
       "      <td>0</td>\n",
       "      <td>5640.125298</td>\n",
       "      <td>1</td>\n",
       "      <td>0</td>\n",
       "    </tr>\n",
       "    <tr>\n",
       "      <th>5593</th>\n",
       "      <td>617</td>\n",
       "      <td>1</td>\n",
       "      <td>50</td>\n",
       "      <td>7</td>\n",
       "      <td>0.000000</td>\n",
       "      <td>1</td>\n",
       "      <td>1</td>\n",
       "      <td>0</td>\n",
       "      <td>7903.775938</td>\n",
       "      <td>0</td>\n",
       "      <td>0</td>\n",
       "    </tr>\n",
       "    <tr>\n",
       "      <th>7260</th>\n",
       "      <td>773</td>\n",
       "      <td>0</td>\n",
       "      <td>41</td>\n",
       "      <td>7</td>\n",
       "      <td>190238.930000</td>\n",
       "      <td>1</td>\n",
       "      <td>1</td>\n",
       "      <td>1</td>\n",
       "      <td>3442.545155</td>\n",
       "      <td>1</td>\n",
       "      <td>0</td>\n",
       "    </tr>\n",
       "    <tr>\n",
       "      <th>2423</th>\n",
       "      <td>662</td>\n",
       "      <td>0</td>\n",
       "      <td>29</td>\n",
       "      <td>10</td>\n",
       "      <td>0.000000</td>\n",
       "      <td>2</td>\n",
       "      <td>1</td>\n",
       "      <td>0</td>\n",
       "      <td>6402.307866</td>\n",
       "      <td>1</td>\n",
       "      <td>0</td>\n",
       "    </tr>\n",
       "    <tr>\n",
       "      <th>15242</th>\n",
       "      <td>702</td>\n",
       "      <td>0</td>\n",
       "      <td>48</td>\n",
       "      <td>4</td>\n",
       "      <td>89132.651717</td>\n",
       "      <td>1</td>\n",
       "      <td>0</td>\n",
       "      <td>1</td>\n",
       "      <td>2004.317480</td>\n",
       "      <td>0</td>\n",
       "      <td>0</td>\n",
       "    </tr>\n",
       "    <tr>\n",
       "      <th>10338</th>\n",
       "      <td>703</td>\n",
       "      <td>0</td>\n",
       "      <td>45</td>\n",
       "      <td>3</td>\n",
       "      <td>93728.935814</td>\n",
       "      <td>2</td>\n",
       "      <td>1</td>\n",
       "      <td>0</td>\n",
       "      <td>3525.580359</td>\n",
       "      <td>0</td>\n",
       "      <td>0</td>\n",
       "    </tr>\n",
       "    <tr>\n",
       "      <th>2971</th>\n",
       "      <td>681</td>\n",
       "      <td>1</td>\n",
       "      <td>30</td>\n",
       "      <td>2</td>\n",
       "      <td>111093.010000</td>\n",
       "      <td>1</td>\n",
       "      <td>1</td>\n",
       "      <td>0</td>\n",
       "      <td>3917.020047</td>\n",
       "      <td>0</td>\n",
       "      <td>0</td>\n",
       "    </tr>\n",
       "  </tbody>\n",
       "</table>\n",
       "</div>"
      ],
      "text/plain": [
       "       CreditScore  Gender  Age  Tenure        Balance  NumOfProducts  \\\n",
       "8508           678       1   27       2       0.000000              2   \n",
       "5963           850       0   40       7  104449.800000              1   \n",
       "14767          576       1   36       1   90199.787582              1   \n",
       "6971           554       0   44       9  135814.700000              2   \n",
       "5593           617       1   50       7       0.000000              1   \n",
       "7260           773       0   41       7  190238.930000              1   \n",
       "2423           662       0   29      10       0.000000              2   \n",
       "15242          702       0   48       4   89132.651717              1   \n",
       "10338          703       0   45       3   93728.935814              2   \n",
       "2971           681       1   30       2  111093.010000              1   \n",
       "\n",
       "       HasCrCard  IsActiveMember  EstimatedSalary  France  Germany  \n",
       "8508           1               1      1206.946230       0        0  \n",
       "5963           1               1       154.874141       0        1  \n",
       "14767          1               0      7892.474398       0        0  \n",
       "6971           0               0      5640.125298       1        0  \n",
       "5593           1               0      7903.775938       0        0  \n",
       "7260           1               1      3442.545155       1        0  \n",
       "2423           1               0      6402.307866       1        0  \n",
       "15242          0               1      2004.317480       0        0  \n",
       "10338          1               0      3525.580359       0        0  \n",
       "2971           1               0      3917.020047       0        0  "
      ]
     },
     "execution_count": 44,
     "metadata": {},
     "output_type": "execute_result"
    }
   ],
   "source": [
    "X_test.head(10)"
   ]
  },
  {
   "cell_type": "code",
   "execution_count": 45,
   "id": "1d1ba6ab",
   "metadata": {},
   "outputs": [
    {
     "data": {
      "text/plain": [
       "(3186, 11)"
      ]
     },
     "execution_count": 45,
     "metadata": {},
     "output_type": "execute_result"
    }
   ],
   "source": [
    "X_test.shape"
   ]
  },
  {
   "cell_type": "markdown",
   "id": "b604dfde",
   "metadata": {},
   "source": [
    "#### Feature scalling"
   ]
  },
  {
   "cell_type": "code",
   "execution_count": 46,
   "id": "a9f893df",
   "metadata": {},
   "outputs": [],
   "source": [
    "from sklearn.preprocessing import MinMaxScaler"
   ]
  },
  {
   "cell_type": "code",
   "execution_count": 47,
   "id": "d9b06ff2",
   "metadata": {},
   "outputs": [],
   "source": [
    "scaler=MinMaxScaler()\n",
    "X_train[X_train.columns]=scaler.fit_transform(X_train[X_train.columns])\n",
    "X_test[X_test.columns]=scaler.transform(X_test[X_test.columns])"
   ]
  },
  {
   "cell_type": "code",
   "execution_count": 48,
   "id": "b2a931c2",
   "metadata": {},
   "outputs": [
    {
     "data": {
      "text/html": [
       "<div>\n",
       "<style scoped>\n",
       "    .dataframe tbody tr th:only-of-type {\n",
       "        vertical-align: middle;\n",
       "    }\n",
       "\n",
       "    .dataframe tbody tr th {\n",
       "        vertical-align: top;\n",
       "    }\n",
       "\n",
       "    .dataframe thead th {\n",
       "        text-align: right;\n",
       "    }\n",
       "</style>\n",
       "<table border=\"1\" class=\"dataframe\">\n",
       "  <thead>\n",
       "    <tr style=\"text-align: right;\">\n",
       "      <th></th>\n",
       "      <th>CreditScore</th>\n",
       "      <th>Gender</th>\n",
       "      <th>Age</th>\n",
       "      <th>Tenure</th>\n",
       "      <th>Balance</th>\n",
       "      <th>NumOfProducts</th>\n",
       "      <th>HasCrCard</th>\n",
       "      <th>IsActiveMember</th>\n",
       "      <th>EstimatedSalary</th>\n",
       "      <th>France</th>\n",
       "      <th>Germany</th>\n",
       "    </tr>\n",
       "  </thead>\n",
       "  <tbody>\n",
       "    <tr>\n",
       "      <th>count</th>\n",
       "      <td>12740.000000</td>\n",
       "      <td>12740.000000</td>\n",
       "      <td>12740.000000</td>\n",
       "      <td>12740.000000</td>\n",
       "      <td>12740.000000</td>\n",
       "      <td>12740.000000</td>\n",
       "      <td>12740.000000</td>\n",
       "      <td>12740.000000</td>\n",
       "      <td>12740.000000</td>\n",
       "      <td>12740.000000</td>\n",
       "      <td>12740.000000</td>\n",
       "    </tr>\n",
       "    <tr>\n",
       "      <th>mean</th>\n",
       "      <td>0.597016</td>\n",
       "      <td>0.413501</td>\n",
       "      <td>0.309787</td>\n",
       "      <td>0.478501</td>\n",
       "      <td>0.326947</td>\n",
       "      <td>0.138671</td>\n",
       "      <td>0.625981</td>\n",
       "      <td>0.371429</td>\n",
       "      <td>0.591396</td>\n",
       "      <td>0.387363</td>\n",
       "      <td>0.247724</td>\n",
       "    </tr>\n",
       "    <tr>\n",
       "      <th>std</th>\n",
       "      <td>0.185090</td>\n",
       "      <td>0.492480</td>\n",
       "      <td>0.135317</td>\n",
       "      <td>0.272144</td>\n",
       "      <td>0.243376</td>\n",
       "      <td>0.190967</td>\n",
       "      <td>0.483888</td>\n",
       "      <td>0.483206</td>\n",
       "      <td>0.264263</td>\n",
       "      <td>0.487167</td>\n",
       "      <td>0.431707</td>\n",
       "    </tr>\n",
       "    <tr>\n",
       "      <th>min</th>\n",
       "      <td>0.000000</td>\n",
       "      <td>0.000000</td>\n",
       "      <td>0.000000</td>\n",
       "      <td>0.000000</td>\n",
       "      <td>0.000000</td>\n",
       "      <td>0.000000</td>\n",
       "      <td>0.000000</td>\n",
       "      <td>0.000000</td>\n",
       "      <td>0.000000</td>\n",
       "      <td>0.000000</td>\n",
       "      <td>0.000000</td>\n",
       "    </tr>\n",
       "    <tr>\n",
       "      <th>25%</th>\n",
       "      <td>0.472000</td>\n",
       "      <td>0.000000</td>\n",
       "      <td>0.216216</td>\n",
       "      <td>0.200000</td>\n",
       "      <td>0.000000</td>\n",
       "      <td>0.000000</td>\n",
       "      <td>0.000000</td>\n",
       "      <td>0.000000</td>\n",
       "      <td>0.388211</td>\n",
       "      <td>0.000000</td>\n",
       "      <td>0.000000</td>\n",
       "    </tr>\n",
       "    <tr>\n",
       "      <th>50%</th>\n",
       "      <td>0.598000</td>\n",
       "      <td>0.000000</td>\n",
       "      <td>0.297297</td>\n",
       "      <td>0.500000</td>\n",
       "      <td>0.411152</td>\n",
       "      <td>0.000000</td>\n",
       "      <td>1.000000</td>\n",
       "      <td>0.000000</td>\n",
       "      <td>0.618064</td>\n",
       "      <td>0.000000</td>\n",
       "      <td>0.000000</td>\n",
       "    </tr>\n",
       "    <tr>\n",
       "      <th>75%</th>\n",
       "      <td>0.726000</td>\n",
       "      <td>1.000000</td>\n",
       "      <td>0.391892</td>\n",
       "      <td>0.700000</td>\n",
       "      <td>0.513415</td>\n",
       "      <td>0.333333</td>\n",
       "      <td>1.000000</td>\n",
       "      <td>1.000000</td>\n",
       "      <td>0.819320</td>\n",
       "      <td>1.000000</td>\n",
       "      <td>0.000000</td>\n",
       "    </tr>\n",
       "    <tr>\n",
       "      <th>max</th>\n",
       "      <td>1.000000</td>\n",
       "      <td>1.000000</td>\n",
       "      <td>1.000000</td>\n",
       "      <td>1.000000</td>\n",
       "      <td>1.000000</td>\n",
       "      <td>1.000000</td>\n",
       "      <td>1.000000</td>\n",
       "      <td>1.000000</td>\n",
       "      <td>1.000000</td>\n",
       "      <td>1.000000</td>\n",
       "      <td>1.000000</td>\n",
       "    </tr>\n",
       "  </tbody>\n",
       "</table>\n",
       "</div>"
      ],
      "text/plain": [
       "        CreditScore        Gender           Age        Tenure       Balance  \\\n",
       "count  12740.000000  12740.000000  12740.000000  12740.000000  12740.000000   \n",
       "mean       0.597016      0.413501      0.309787      0.478501      0.326947   \n",
       "std        0.185090      0.492480      0.135317      0.272144      0.243376   \n",
       "min        0.000000      0.000000      0.000000      0.000000      0.000000   \n",
       "25%        0.472000      0.000000      0.216216      0.200000      0.000000   \n",
       "50%        0.598000      0.000000      0.297297      0.500000      0.411152   \n",
       "75%        0.726000      1.000000      0.391892      0.700000      0.513415   \n",
       "max        1.000000      1.000000      1.000000      1.000000      1.000000   \n",
       "\n",
       "       NumOfProducts     HasCrCard  IsActiveMember  EstimatedSalary  \\\n",
       "count   12740.000000  12740.000000    12740.000000     12740.000000   \n",
       "mean        0.138671      0.625981        0.371429         0.591396   \n",
       "std         0.190967      0.483888        0.483206         0.264263   \n",
       "min         0.000000      0.000000        0.000000         0.000000   \n",
       "25%         0.000000      0.000000        0.000000         0.388211   \n",
       "50%         0.000000      1.000000        0.000000         0.618064   \n",
       "75%         0.333333      1.000000        1.000000         0.819320   \n",
       "max         1.000000      1.000000        1.000000         1.000000   \n",
       "\n",
       "             France       Germany  \n",
       "count  12740.000000  12740.000000  \n",
       "mean       0.387363      0.247724  \n",
       "std        0.487167      0.431707  \n",
       "min        0.000000      0.000000  \n",
       "25%        0.000000      0.000000  \n",
       "50%        0.000000      0.000000  \n",
       "75%        1.000000      0.000000  \n",
       "max        1.000000      1.000000  "
      ]
     },
     "execution_count": 48,
     "metadata": {},
     "output_type": "execute_result"
    }
   ],
   "source": [
    "X_train.describe()"
   ]
  },
  {
   "cell_type": "code",
   "execution_count": 49,
   "id": "ae084e56",
   "metadata": {},
   "outputs": [
    {
     "data": {
      "text/html": [
       "<div>\n",
       "<style scoped>\n",
       "    .dataframe tbody tr th:only-of-type {\n",
       "        vertical-align: middle;\n",
       "    }\n",
       "\n",
       "    .dataframe tbody tr th {\n",
       "        vertical-align: top;\n",
       "    }\n",
       "\n",
       "    .dataframe thead th {\n",
       "        text-align: right;\n",
       "    }\n",
       "</style>\n",
       "<table border=\"1\" class=\"dataframe\">\n",
       "  <thead>\n",
       "    <tr style=\"text-align: right;\">\n",
       "      <th></th>\n",
       "      <th>CreditScore</th>\n",
       "      <th>Gender</th>\n",
       "      <th>Age</th>\n",
       "      <th>Tenure</th>\n",
       "      <th>Balance</th>\n",
       "      <th>NumOfProducts</th>\n",
       "      <th>HasCrCard</th>\n",
       "      <th>IsActiveMember</th>\n",
       "      <th>EstimatedSalary</th>\n",
       "      <th>France</th>\n",
       "      <th>Germany</th>\n",
       "    </tr>\n",
       "  </thead>\n",
       "  <tbody>\n",
       "    <tr>\n",
       "      <th>count</th>\n",
       "      <td>3186.000000</td>\n",
       "      <td>3186.000000</td>\n",
       "      <td>3186.000000</td>\n",
       "      <td>3186.000000</td>\n",
       "      <td>3186.000000</td>\n",
       "      <td>3186.000000</td>\n",
       "      <td>3186.000000</td>\n",
       "      <td>3186.000000</td>\n",
       "      <td>3186.000000</td>\n",
       "      <td>3186.000000</td>\n",
       "      <td>3186.000000</td>\n",
       "    </tr>\n",
       "    <tr>\n",
       "      <th>mean</th>\n",
       "      <td>0.595571</td>\n",
       "      <td>0.413685</td>\n",
       "      <td>0.312613</td>\n",
       "      <td>0.489925</td>\n",
       "      <td>0.319270</td>\n",
       "      <td>0.148148</td>\n",
       "      <td>0.627746</td>\n",
       "      <td>0.371312</td>\n",
       "      <td>0.586712</td>\n",
       "      <td>0.391086</td>\n",
       "      <td>0.250471</td>\n",
       "    </tr>\n",
       "    <tr>\n",
       "      <th>std</th>\n",
       "      <td>0.183280</td>\n",
       "      <td>0.492571</td>\n",
       "      <td>0.137317</td>\n",
       "      <td>0.276560</td>\n",
       "      <td>0.245016</td>\n",
       "      <td>0.194882</td>\n",
       "      <td>0.483481</td>\n",
       "      <td>0.483232</td>\n",
       "      <td>0.263608</td>\n",
       "      <td>0.488070</td>\n",
       "      <td>0.433352</td>\n",
       "    </tr>\n",
       "    <tr>\n",
       "      <th>min</th>\n",
       "      <td>0.000000</td>\n",
       "      <td>0.000000</td>\n",
       "      <td>0.000000</td>\n",
       "      <td>0.000000</td>\n",
       "      <td>0.000000</td>\n",
       "      <td>0.000000</td>\n",
       "      <td>0.000000</td>\n",
       "      <td>0.000000</td>\n",
       "      <td>0.003713</td>\n",
       "      <td>0.000000</td>\n",
       "      <td>0.000000</td>\n",
       "    </tr>\n",
       "    <tr>\n",
       "      <th>25%</th>\n",
       "      <td>0.466000</td>\n",
       "      <td>0.000000</td>\n",
       "      <td>0.216216</td>\n",
       "      <td>0.300000</td>\n",
       "      <td>0.000000</td>\n",
       "      <td>0.000000</td>\n",
       "      <td>0.000000</td>\n",
       "      <td>0.000000</td>\n",
       "      <td>0.382079</td>\n",
       "      <td>0.000000</td>\n",
       "      <td>0.000000</td>\n",
       "    </tr>\n",
       "    <tr>\n",
       "      <th>50%</th>\n",
       "      <td>0.600000</td>\n",
       "      <td>0.000000</td>\n",
       "      <td>0.297297</td>\n",
       "      <td>0.500000</td>\n",
       "      <td>0.405384</td>\n",
       "      <td>0.000000</td>\n",
       "      <td>1.000000</td>\n",
       "      <td>0.000000</td>\n",
       "      <td>0.612473</td>\n",
       "      <td>0.000000</td>\n",
       "      <td>0.000000</td>\n",
       "    </tr>\n",
       "    <tr>\n",
       "      <th>75%</th>\n",
       "      <td>0.724000</td>\n",
       "      <td>1.000000</td>\n",
       "      <td>0.391892</td>\n",
       "      <td>0.700000</td>\n",
       "      <td>0.509554</td>\n",
       "      <td>0.333333</td>\n",
       "      <td>1.000000</td>\n",
       "      <td>1.000000</td>\n",
       "      <td>0.813262</td>\n",
       "      <td>1.000000</td>\n",
       "      <td>1.000000</td>\n",
       "    </tr>\n",
       "    <tr>\n",
       "      <th>max</th>\n",
       "      <td>1.000000</td>\n",
       "      <td>1.000000</td>\n",
       "      <td>0.945946</td>\n",
       "      <td>1.000000</td>\n",
       "      <td>0.976933</td>\n",
       "      <td>1.000000</td>\n",
       "      <td>1.000000</td>\n",
       "      <td>1.000000</td>\n",
       "      <td>0.999343</td>\n",
       "      <td>1.000000</td>\n",
       "      <td>1.000000</td>\n",
       "    </tr>\n",
       "  </tbody>\n",
       "</table>\n",
       "</div>"
      ],
      "text/plain": [
       "       CreditScore       Gender          Age       Tenure      Balance  \\\n",
       "count  3186.000000  3186.000000  3186.000000  3186.000000  3186.000000   \n",
       "mean      0.595571     0.413685     0.312613     0.489925     0.319270   \n",
       "std       0.183280     0.492571     0.137317     0.276560     0.245016   \n",
       "min       0.000000     0.000000     0.000000     0.000000     0.000000   \n",
       "25%       0.466000     0.000000     0.216216     0.300000     0.000000   \n",
       "50%       0.600000     0.000000     0.297297     0.500000     0.405384   \n",
       "75%       0.724000     1.000000     0.391892     0.700000     0.509554   \n",
       "max       1.000000     1.000000     0.945946     1.000000     0.976933   \n",
       "\n",
       "       NumOfProducts    HasCrCard  IsActiveMember  EstimatedSalary  \\\n",
       "count    3186.000000  3186.000000     3186.000000      3186.000000   \n",
       "mean        0.148148     0.627746        0.371312         0.586712   \n",
       "std         0.194882     0.483481        0.483232         0.263608   \n",
       "min         0.000000     0.000000        0.000000         0.003713   \n",
       "25%         0.000000     0.000000        0.000000         0.382079   \n",
       "50%         0.000000     1.000000        0.000000         0.612473   \n",
       "75%         0.333333     1.000000        1.000000         0.813262   \n",
       "max         1.000000     1.000000        1.000000         0.999343   \n",
       "\n",
       "            France      Germany  \n",
       "count  3186.000000  3186.000000  \n",
       "mean      0.391086     0.250471  \n",
       "std       0.488070     0.433352  \n",
       "min       0.000000     0.000000  \n",
       "25%       0.000000     0.000000  \n",
       "50%       0.000000     0.000000  \n",
       "75%       1.000000     1.000000  \n",
       "max       1.000000     1.000000  "
      ]
     },
     "execution_count": 49,
     "metadata": {},
     "output_type": "execute_result"
    }
   ],
   "source": [
    "X_test.describe()"
   ]
  },
  {
   "cell_type": "markdown",
   "id": "4cded58d",
   "metadata": {},
   "source": [
    "### 2.Building the ANN"
   ]
  },
  {
   "cell_type": "markdown",
   "id": "e45d768a",
   "metadata": {},
   "source": [
    "#### Intializing the layer"
   ]
  },
  {
   "cell_type": "code",
   "execution_count": 50,
   "id": "0bf96a75",
   "metadata": {},
   "outputs": [],
   "source": [
    "from tensorflow.keras.models import Sequential"
   ]
  },
  {
   "cell_type": "code",
   "execution_count": 51,
   "id": "0b4bc0f7",
   "metadata": {},
   "outputs": [],
   "source": [
    "model=Sequential()"
   ]
  },
  {
   "cell_type": "markdown",
   "id": "a7688239",
   "metadata": {},
   "source": [
    "#### Adding the input layer and first hidden layer"
   ]
  },
  {
   "cell_type": "code",
   "execution_count": 52,
   "id": "511f6735",
   "metadata": {},
   "outputs": [],
   "source": [
    "model.add(tf.keras.layers.Dense(units=6,activation=\"relu\"))"
   ]
  },
  {
   "cell_type": "code",
   "execution_count": 53,
   "id": "49610105",
   "metadata": {},
   "outputs": [],
   "source": [
    "# adding more hidden layers \n",
    "model.add(tf.keras.layers.Dense(units=12,activation=\"relu\"))\n",
    "\n",
    "model.add(tf.keras.layers.Dense(units=24,activation=\"relu\"))\n",
    "\n",
    "model.add(tf.keras.layers.Dropout(0.2))"
   ]
  },
  {
   "cell_type": "markdown",
   "id": "29f20891",
   "metadata": {},
   "source": [
    "#### Adding output layer"
   ]
  },
  {
   "cell_type": "code",
   "execution_count": 54,
   "id": "a4de4d0d",
   "metadata": {},
   "outputs": [],
   "source": [
    "model.add(tf.keras.layers.Dense(units=1,activation=\"sigmoid\"))"
   ]
  },
  {
   "cell_type": "markdown",
   "id": "e4bda26e",
   "metadata": {},
   "source": [
    "### 3.Training the ANN"
   ]
  },
  {
   "cell_type": "code",
   "execution_count": 55,
   "id": "4366b480",
   "metadata": {},
   "outputs": [],
   "source": [
    "model.compile(optimizer=\"adam\",loss=\"binary_crossentropy\",metrics=[\"accuracy\"])"
   ]
  },
  {
   "cell_type": "markdown",
   "id": "f41b08a7",
   "metadata": {},
   "source": [
    "#### Training the ANN on training set"
   ]
  },
  {
   "cell_type": "code",
   "execution_count": 56,
   "id": "b6a8ff54",
   "metadata": {
    "scrolled": false
   },
   "outputs": [
    {
     "name": "stdout",
     "output_type": "stream",
     "text": [
      "Epoch 1/200\n",
      "319/319 [==============================] - 4s 5ms/step - loss: 0.6129 - accuracy: 0.6752 - val_loss: 0.5341 - val_accuracy: 0.7480\n",
      "Epoch 2/200\n",
      "319/319 [==============================] - 1s 4ms/step - loss: 0.5050 - accuracy: 0.7656 - val_loss: 0.4901 - val_accuracy: 0.7700\n",
      "Epoch 3/200\n",
      "319/319 [==============================] - 1s 3ms/step - loss: 0.4845 - accuracy: 0.7763 - val_loss: 0.4766 - val_accuracy: 0.7739\n",
      "Epoch 4/200\n",
      "319/319 [==============================] - 1s 4ms/step - loss: 0.4732 - accuracy: 0.7797 - val_loss: 0.4692 - val_accuracy: 0.7798\n",
      "Epoch 5/200\n",
      "319/319 [==============================] - 1s 4ms/step - loss: 0.4698 - accuracy: 0.7846 - val_loss: 0.4670 - val_accuracy: 0.7814\n",
      "Epoch 6/200\n",
      "319/319 [==============================] - 1s 4ms/step - loss: 0.4625 - accuracy: 0.7854 - val_loss: 0.4579 - val_accuracy: 0.7806\n",
      "Epoch 7/200\n",
      "319/319 [==============================] - 1s 4ms/step - loss: 0.4612 - accuracy: 0.7853 - val_loss: 0.4550 - val_accuracy: 0.7834\n",
      "Epoch 8/200\n",
      "319/319 [==============================] - 1s 4ms/step - loss: 0.4579 - accuracy: 0.7902 - val_loss: 0.4570 - val_accuracy: 0.7790\n",
      "Epoch 9/200\n",
      "319/319 [==============================] - 1s 4ms/step - loss: 0.4556 - accuracy: 0.7880 - val_loss: 0.4520 - val_accuracy: 0.7826\n",
      "Epoch 10/200\n",
      "319/319 [==============================] - 1s 4ms/step - loss: 0.4522 - accuracy: 0.7897 - val_loss: 0.4482 - val_accuracy: 0.7826\n",
      "Epoch 11/200\n",
      "319/319 [==============================] - 1s 4ms/step - loss: 0.4490 - accuracy: 0.7910 - val_loss: 0.4456 - val_accuracy: 0.7877\n",
      "Epoch 12/200\n",
      "319/319 [==============================] - 1s 4ms/step - loss: 0.4462 - accuracy: 0.7929 - val_loss: 0.4452 - val_accuracy: 0.7900\n",
      "Epoch 13/200\n",
      "319/319 [==============================] - 1s 4ms/step - loss: 0.4444 - accuracy: 0.7946 - val_loss: 0.4445 - val_accuracy: 0.7889\n",
      "Epoch 14/200\n",
      "319/319 [==============================] - 1s 4ms/step - loss: 0.4445 - accuracy: 0.7941 - val_loss: 0.4417 - val_accuracy: 0.7908\n",
      "Epoch 15/200\n",
      "319/319 [==============================] - 1s 4ms/step - loss: 0.4428 - accuracy: 0.7965 - val_loss: 0.4408 - val_accuracy: 0.7916\n",
      "Epoch 16/200\n",
      "319/319 [==============================] - 1s 4ms/step - loss: 0.4442 - accuracy: 0.7957 - val_loss: 0.4409 - val_accuracy: 0.7924\n",
      "Epoch 17/200\n",
      "319/319 [==============================] - 1s 4ms/step - loss: 0.4421 - accuracy: 0.7952 - val_loss: 0.4441 - val_accuracy: 0.7928\n",
      "Epoch 18/200\n",
      "319/319 [==============================] - 1s 4ms/step - loss: 0.4409 - accuracy: 0.7933 - val_loss: 0.4372 - val_accuracy: 0.7920\n",
      "Epoch 19/200\n",
      "319/319 [==============================] - 1s 4ms/step - loss: 0.4388 - accuracy: 0.7972 - val_loss: 0.4365 - val_accuracy: 0.7932\n",
      "Epoch 20/200\n",
      "319/319 [==============================] - 1s 4ms/step - loss: 0.4386 - accuracy: 0.7957 - val_loss: 0.4353 - val_accuracy: 0.7932\n",
      "Epoch 21/200\n",
      "319/319 [==============================] - 1s 4ms/step - loss: 0.4355 - accuracy: 0.7969 - val_loss: 0.4340 - val_accuracy: 0.7932\n",
      "Epoch 22/200\n",
      "319/319 [==============================] - 2s 5ms/step - loss: 0.4359 - accuracy: 0.7969 - val_loss: 0.4330 - val_accuracy: 0.7928\n",
      "Epoch 23/200\n",
      "319/319 [==============================] - 2s 5ms/step - loss: 0.4334 - accuracy: 0.7982 - val_loss: 0.4302 - val_accuracy: 0.7959\n",
      "Epoch 24/200\n",
      "319/319 [==============================] - 1s 5ms/step - loss: 0.4332 - accuracy: 0.7988 - val_loss: 0.4280 - val_accuracy: 0.7983\n",
      "Epoch 25/200\n",
      "319/319 [==============================] - 1s 4ms/step - loss: 0.4273 - accuracy: 0.7997 - val_loss: 0.4273 - val_accuracy: 0.7951\n",
      "Epoch 26/200\n",
      "319/319 [==============================] - 1s 4ms/step - loss: 0.4256 - accuracy: 0.8033 - val_loss: 0.4225 - val_accuracy: 0.8018\n",
      "Epoch 27/200\n",
      "319/319 [==============================] - 1s 4ms/step - loss: 0.4222 - accuracy: 0.8057 - val_loss: 0.4219 - val_accuracy: 0.8053\n",
      "Epoch 28/200\n",
      "319/319 [==============================] - 2s 5ms/step - loss: 0.4231 - accuracy: 0.8078 - val_loss: 0.4168 - val_accuracy: 0.8057\n",
      "Epoch 29/200\n",
      "319/319 [==============================] - 2s 5ms/step - loss: 0.4152 - accuracy: 0.8104 - val_loss: 0.4120 - val_accuracy: 0.8124\n",
      "Epoch 30/200\n",
      "319/319 [==============================] - 1s 4ms/step - loss: 0.4125 - accuracy: 0.8116 - val_loss: 0.4094 - val_accuracy: 0.8183\n",
      "Epoch 31/200\n",
      "319/319 [==============================] - 1s 5ms/step - loss: 0.4102 - accuracy: 0.8142 - val_loss: 0.4138 - val_accuracy: 0.8120\n",
      "Epoch 32/200\n",
      "319/319 [==============================] - 1s 4ms/step - loss: 0.4060 - accuracy: 0.8176 - val_loss: 0.4015 - val_accuracy: 0.8214\n",
      "Epoch 33/200\n",
      "319/319 [==============================] - 2s 5ms/step - loss: 0.4028 - accuracy: 0.8182 - val_loss: 0.3999 - val_accuracy: 0.8214\n",
      "Epoch 34/200\n",
      "319/319 [==============================] - 2s 7ms/step - loss: 0.4000 - accuracy: 0.8172 - val_loss: 0.3999 - val_accuracy: 0.8234\n",
      "Epoch 35/200\n",
      "319/319 [==============================] - 3s 8ms/step - loss: 0.3967 - accuracy: 0.8174 - val_loss: 0.4039 - val_accuracy: 0.8250\n",
      "Epoch 36/200\n",
      "319/319 [==============================] - 2s 6ms/step - loss: 0.3962 - accuracy: 0.8189 - val_loss: 0.4023 - val_accuracy: 0.8242\n",
      "Epoch 37/200\n",
      "319/319 [==============================] - 2s 5ms/step - loss: 0.3951 - accuracy: 0.8209 - val_loss: 0.3980 - val_accuracy: 0.8246\n",
      "Epoch 38/200\n",
      "319/319 [==============================] - 2s 5ms/step - loss: 0.3968 - accuracy: 0.8193 - val_loss: 0.3954 - val_accuracy: 0.8277\n",
      "Epoch 39/200\n",
      "319/319 [==============================] - 1s 4ms/step - loss: 0.3954 - accuracy: 0.8180 - val_loss: 0.3948 - val_accuracy: 0.8273\n",
      "Epoch 40/200\n",
      "319/319 [==============================] - 1s 4ms/step - loss: 0.3936 - accuracy: 0.8203 - val_loss: 0.3949 - val_accuracy: 0.8289\n",
      "Epoch 41/200\n",
      "319/319 [==============================] - 1s 5ms/step - loss: 0.3925 - accuracy: 0.8222 - val_loss: 0.3961 - val_accuracy: 0.8285\n",
      "Epoch 42/200\n",
      "319/319 [==============================] - 1s 4ms/step - loss: 0.3943 - accuracy: 0.8203 - val_loss: 0.3935 - val_accuracy: 0.8297\n",
      "Epoch 43/200\n",
      "319/319 [==============================] - 2s 5ms/step - loss: 0.3914 - accuracy: 0.8224 - val_loss: 0.3956 - val_accuracy: 0.8285\n",
      "Epoch 44/200\n",
      "319/319 [==============================] - 1s 4ms/step - loss: 0.3919 - accuracy: 0.8245 - val_loss: 0.3929 - val_accuracy: 0.8332\n",
      "Epoch 45/200\n",
      "319/319 [==============================] - 1s 4ms/step - loss: 0.3897 - accuracy: 0.8238 - val_loss: 0.3942 - val_accuracy: 0.8269\n",
      "Epoch 46/200\n",
      "319/319 [==============================] - 1s 5ms/step - loss: 0.3916 - accuracy: 0.8231 - val_loss: 0.3941 - val_accuracy: 0.8308\n",
      "Epoch 47/200\n",
      "319/319 [==============================] - 1s 4ms/step - loss: 0.3925 - accuracy: 0.8238 - val_loss: 0.3923 - val_accuracy: 0.8336\n",
      "Epoch 48/200\n",
      "319/319 [==============================] - 1s 4ms/step - loss: 0.3897 - accuracy: 0.8231 - val_loss: 0.3937 - val_accuracy: 0.8250\n",
      "Epoch 49/200\n",
      "319/319 [==============================] - 1s 4ms/step - loss: 0.3879 - accuracy: 0.8284 - val_loss: 0.3900 - val_accuracy: 0.8301\n",
      "Epoch 50/200\n",
      "319/319 [==============================] - 1s 5ms/step - loss: 0.3906 - accuracy: 0.8238 - val_loss: 0.3934 - val_accuracy: 0.8273\n",
      "Epoch 51/200\n",
      "319/319 [==============================] - 1s 4ms/step - loss: 0.3902 - accuracy: 0.8255 - val_loss: 0.3900 - val_accuracy: 0.8281\n",
      "Epoch 52/200\n",
      "319/319 [==============================] - 2s 5ms/step - loss: 0.3883 - accuracy: 0.8255 - val_loss: 0.3910 - val_accuracy: 0.8281\n",
      "Epoch 53/200\n",
      "319/319 [==============================] - 1s 5ms/step - loss: 0.3903 - accuracy: 0.8249 - val_loss: 0.3898 - val_accuracy: 0.8301\n",
      "Epoch 54/200\n",
      "319/319 [==============================] - 1s 4ms/step - loss: 0.3882 - accuracy: 0.8257 - val_loss: 0.3899 - val_accuracy: 0.8293\n",
      "Epoch 55/200\n",
      "319/319 [==============================] - 2s 5ms/step - loss: 0.3891 - accuracy: 0.8275 - val_loss: 0.3930 - val_accuracy: 0.8246\n",
      "Epoch 56/200\n",
      "319/319 [==============================] - 1s 4ms/step - loss: 0.3883 - accuracy: 0.8244 - val_loss: 0.3895 - val_accuracy: 0.8328\n",
      "Epoch 57/200\n",
      "319/319 [==============================] - 1s 4ms/step - loss: 0.3857 - accuracy: 0.8296 - val_loss: 0.3929 - val_accuracy: 0.8254\n"
     ]
    },
    {
     "name": "stdout",
     "output_type": "stream",
     "text": [
      "Epoch 58/200\n",
      "319/319 [==============================] - 1s 4ms/step - loss: 0.3878 - accuracy: 0.8257 - val_loss: 0.3896 - val_accuracy: 0.8261\n",
      "Epoch 59/200\n",
      "319/319 [==============================] - 1s 4ms/step - loss: 0.3861 - accuracy: 0.8248 - val_loss: 0.3904 - val_accuracy: 0.8336\n",
      "Epoch 60/200\n",
      "319/319 [==============================] - 1s 4ms/step - loss: 0.3848 - accuracy: 0.8242 - val_loss: 0.3880 - val_accuracy: 0.8352\n",
      "Epoch 61/200\n",
      "319/319 [==============================] - 1s 4ms/step - loss: 0.3878 - accuracy: 0.8267 - val_loss: 0.3919 - val_accuracy: 0.8269\n",
      "Epoch 62/200\n",
      "319/319 [==============================] - 1s 4ms/step - loss: 0.3848 - accuracy: 0.8258 - val_loss: 0.3890 - val_accuracy: 0.8261\n",
      "Epoch 63/200\n",
      "319/319 [==============================] - 1s 4ms/step - loss: 0.3820 - accuracy: 0.8279 - val_loss: 0.3935 - val_accuracy: 0.8289\n",
      "Epoch 64/200\n",
      "319/319 [==============================] - 1s 4ms/step - loss: 0.3846 - accuracy: 0.8277 - val_loss: 0.3922 - val_accuracy: 0.8261\n",
      "Epoch 65/200\n",
      "319/319 [==============================] - 1s 4ms/step - loss: 0.3857 - accuracy: 0.8255 - val_loss: 0.3894 - val_accuracy: 0.8297\n",
      "Epoch 66/200\n",
      "319/319 [==============================] - 1s 4ms/step - loss: 0.3855 - accuracy: 0.8265 - val_loss: 0.3951 - val_accuracy: 0.8269\n",
      "Epoch 67/200\n",
      "319/319 [==============================] - 1s 3ms/step - loss: 0.3850 - accuracy: 0.8260 - val_loss: 0.3918 - val_accuracy: 0.8297\n",
      "Epoch 68/200\n",
      "319/319 [==============================] - 1s 4ms/step - loss: 0.3861 - accuracy: 0.8259 - val_loss: 0.3943 - val_accuracy: 0.8257\n",
      "Epoch 69/200\n",
      "319/319 [==============================] - 1s 4ms/step - loss: 0.3830 - accuracy: 0.8268 - val_loss: 0.3925 - val_accuracy: 0.8269\n",
      "Epoch 70/200\n",
      "319/319 [==============================] - 1s 4ms/step - loss: 0.3836 - accuracy: 0.8254 - val_loss: 0.3883 - val_accuracy: 0.8316\n",
      "Epoch 71/200\n",
      "319/319 [==============================] - 1s 4ms/step - loss: 0.3816 - accuracy: 0.8278 - val_loss: 0.3927 - val_accuracy: 0.8297\n",
      "Epoch 72/200\n",
      "319/319 [==============================] - 1s 4ms/step - loss: 0.3828 - accuracy: 0.8293 - val_loss: 0.3898 - val_accuracy: 0.8269\n",
      "Epoch 73/200\n",
      "319/319 [==============================] - 1s 4ms/step - loss: 0.3821 - accuracy: 0.8291 - val_loss: 0.3985 - val_accuracy: 0.8210\n",
      "Epoch 74/200\n",
      "319/319 [==============================] - 1s 4ms/step - loss: 0.3832 - accuracy: 0.8257 - val_loss: 0.3900 - val_accuracy: 0.8206\n",
      "Epoch 75/200\n",
      "319/319 [==============================] - 1s 4ms/step - loss: 0.3834 - accuracy: 0.8255 - val_loss: 0.3840 - val_accuracy: 0.8328\n",
      "Epoch 76/200\n",
      "319/319 [==============================] - 1s 5ms/step - loss: 0.3818 - accuracy: 0.8288 - val_loss: 0.3865 - val_accuracy: 0.8348\n",
      "Epoch 77/200\n",
      "319/319 [==============================] - 1s 4ms/step - loss: 0.3842 - accuracy: 0.8266 - val_loss: 0.3886 - val_accuracy: 0.8316\n",
      "Epoch 78/200\n",
      "319/319 [==============================] - 1s 4ms/step - loss: 0.3811 - accuracy: 0.8289 - val_loss: 0.3873 - val_accuracy: 0.8293\n",
      "Epoch 79/200\n",
      "319/319 [==============================] - 1s 4ms/step - loss: 0.3820 - accuracy: 0.8287 - val_loss: 0.3915 - val_accuracy: 0.8281\n",
      "Epoch 80/200\n",
      "319/319 [==============================] - 1s 4ms/step - loss: 0.3808 - accuracy: 0.8297 - val_loss: 0.3848 - val_accuracy: 0.8320\n",
      "Epoch 81/200\n",
      "319/319 [==============================] - 1s 4ms/step - loss: 0.3804 - accuracy: 0.8303 - val_loss: 0.3830 - val_accuracy: 0.8356\n",
      "Epoch 82/200\n",
      "319/319 [==============================] - 1s 4ms/step - loss: 0.3805 - accuracy: 0.8323 - val_loss: 0.3825 - val_accuracy: 0.8332\n",
      "Epoch 83/200\n",
      "319/319 [==============================] - 1s 4ms/step - loss: 0.3831 - accuracy: 0.8277 - val_loss: 0.3854 - val_accuracy: 0.8289\n",
      "Epoch 84/200\n",
      "319/319 [==============================] - 1s 4ms/step - loss: 0.3799 - accuracy: 0.8284 - val_loss: 0.3832 - val_accuracy: 0.8344\n",
      "Epoch 85/200\n",
      "319/319 [==============================] - 1s 4ms/step - loss: 0.3804 - accuracy: 0.8285 - val_loss: 0.3826 - val_accuracy: 0.8312\n",
      "Epoch 86/200\n",
      "319/319 [==============================] - 1s 4ms/step - loss: 0.3822 - accuracy: 0.8279 - val_loss: 0.3865 - val_accuracy: 0.8328\n",
      "Epoch 87/200\n",
      "319/319 [==============================] - 1s 4ms/step - loss: 0.3800 - accuracy: 0.8294 - val_loss: 0.3858 - val_accuracy: 0.8308\n",
      "Epoch 88/200\n",
      "319/319 [==============================] - 1s 4ms/step - loss: 0.3797 - accuracy: 0.8314 - val_loss: 0.3816 - val_accuracy: 0.8312\n",
      "Epoch 89/200\n",
      "319/319 [==============================] - 1s 4ms/step - loss: 0.3803 - accuracy: 0.8285 - val_loss: 0.3809 - val_accuracy: 0.8340\n",
      "Epoch 90/200\n",
      "319/319 [==============================] - 1s 4ms/step - loss: 0.3815 - accuracy: 0.8314 - val_loss: 0.3815 - val_accuracy: 0.8320\n",
      "Epoch 91/200\n",
      "319/319 [==============================] - 1s 4ms/step - loss: 0.3803 - accuracy: 0.8284 - val_loss: 0.3821 - val_accuracy: 0.8332\n",
      "Epoch 92/200\n",
      "319/319 [==============================] - 1s 4ms/step - loss: 0.3776 - accuracy: 0.8312 - val_loss: 0.3806 - val_accuracy: 0.8336\n",
      "Epoch 93/200\n",
      "319/319 [==============================] - 1s 4ms/step - loss: 0.3797 - accuracy: 0.8284 - val_loss: 0.3796 - val_accuracy: 0.8316\n",
      "Epoch 94/200\n",
      "319/319 [==============================] - 1s 4ms/step - loss: 0.3777 - accuracy: 0.8325 - val_loss: 0.3829 - val_accuracy: 0.8336\n",
      "Epoch 95/200\n",
      "319/319 [==============================] - 1s 4ms/step - loss: 0.3786 - accuracy: 0.8304 - val_loss: 0.3813 - val_accuracy: 0.8344\n",
      "Epoch 96/200\n",
      "319/319 [==============================] - 1s 4ms/step - loss: 0.3763 - accuracy: 0.8311 - val_loss: 0.3855 - val_accuracy: 0.8340\n",
      "Epoch 97/200\n",
      "319/319 [==============================] - 1s 4ms/step - loss: 0.3768 - accuracy: 0.8314 - val_loss: 0.3800 - val_accuracy: 0.8336\n",
      "Epoch 98/200\n",
      "319/319 [==============================] - 1s 4ms/step - loss: 0.3755 - accuracy: 0.8340 - val_loss: 0.3851 - val_accuracy: 0.8273\n",
      "Epoch 99/200\n",
      "319/319 [==============================] - 1s 4ms/step - loss: 0.3772 - accuracy: 0.8318 - val_loss: 0.3819 - val_accuracy: 0.8324\n",
      "Epoch 100/200\n",
      "319/319 [==============================] - 1s 4ms/step - loss: 0.3765 - accuracy: 0.8359 - val_loss: 0.3857 - val_accuracy: 0.8316\n",
      "Epoch 101/200\n",
      "319/319 [==============================] - 1s 4ms/step - loss: 0.3780 - accuracy: 0.8308 - val_loss: 0.3826 - val_accuracy: 0.8301\n",
      "Epoch 102/200\n",
      "319/319 [==============================] - 1s 4ms/step - loss: 0.3752 - accuracy: 0.8313 - val_loss: 0.3811 - val_accuracy: 0.8301\n",
      "Epoch 103/200\n",
      "319/319 [==============================] - 1s 4ms/step - loss: 0.3780 - accuracy: 0.8329 - val_loss: 0.3814 - val_accuracy: 0.8359\n",
      "Epoch 104/200\n",
      "319/319 [==============================] - 1s 4ms/step - loss: 0.3785 - accuracy: 0.8317 - val_loss: 0.3809 - val_accuracy: 0.8312\n",
      "Epoch 105/200\n",
      "319/319 [==============================] - 1s 4ms/step - loss: 0.3769 - accuracy: 0.8338 - val_loss: 0.3809 - val_accuracy: 0.8344\n",
      "Epoch 106/200\n",
      "319/319 [==============================] - 1s 4ms/step - loss: 0.3779 - accuracy: 0.8333 - val_loss: 0.3824 - val_accuracy: 0.8340\n",
      "Epoch 107/200\n",
      "319/319 [==============================] - 1s 4ms/step - loss: 0.3742 - accuracy: 0.8345 - val_loss: 0.3923 - val_accuracy: 0.8320\n",
      "Epoch 108/200\n",
      "319/319 [==============================] - 1s 4ms/step - loss: 0.3769 - accuracy: 0.8337 - val_loss: 0.3830 - val_accuracy: 0.8316\n",
      "Epoch 109/200\n",
      "319/319 [==============================] - 1s 4ms/step - loss: 0.3775 - accuracy: 0.8333 - val_loss: 0.3817 - val_accuracy: 0.8316\n",
      "Epoch 110/200\n",
      "319/319 [==============================] - 1s 4ms/step - loss: 0.3749 - accuracy: 0.8315 - val_loss: 0.3800 - val_accuracy: 0.8312\n",
      "Epoch 111/200\n",
      "319/319 [==============================] - 1s 4ms/step - loss: 0.3780 - accuracy: 0.8331 - val_loss: 0.3789 - val_accuracy: 0.8324\n",
      "Epoch 112/200\n",
      "319/319 [==============================] - 1s 4ms/step - loss: 0.3750 - accuracy: 0.8343 - val_loss: 0.3800 - val_accuracy: 0.8348\n",
      "Epoch 113/200\n",
      "319/319 [==============================] - 1s 4ms/step - loss: 0.3765 - accuracy: 0.8338 - val_loss: 0.3769 - val_accuracy: 0.8356\n",
      "Epoch 114/200\n",
      "319/319 [==============================] - 1s 4ms/step - loss: 0.3765 - accuracy: 0.8329 - val_loss: 0.3802 - val_accuracy: 0.8359\n"
     ]
    },
    {
     "name": "stdout",
     "output_type": "stream",
     "text": [
      "Epoch 115/200\n",
      "319/319 [==============================] - 1s 4ms/step - loss: 0.3738 - accuracy: 0.8314 - val_loss: 0.3794 - val_accuracy: 0.8348\n",
      "Epoch 116/200\n",
      "319/319 [==============================] - 1s 4ms/step - loss: 0.3732 - accuracy: 0.8343 - val_loss: 0.3780 - val_accuracy: 0.8383\n",
      "Epoch 117/200\n",
      "319/319 [==============================] - 1s 4ms/step - loss: 0.3747 - accuracy: 0.8347 - val_loss: 0.3792 - val_accuracy: 0.8356\n",
      "Epoch 118/200\n",
      "319/319 [==============================] - 1s 4ms/step - loss: 0.3751 - accuracy: 0.8329 - val_loss: 0.3782 - val_accuracy: 0.8363\n",
      "Epoch 119/200\n",
      "319/319 [==============================] - 1s 4ms/step - loss: 0.3758 - accuracy: 0.8318 - val_loss: 0.3779 - val_accuracy: 0.8344\n",
      "Epoch 120/200\n",
      "319/319 [==============================] - 1s 4ms/step - loss: 0.3740 - accuracy: 0.8344 - val_loss: 0.3765 - val_accuracy: 0.8320\n",
      "Epoch 121/200\n",
      "319/319 [==============================] - 1s 4ms/step - loss: 0.3727 - accuracy: 0.8327 - val_loss: 0.3793 - val_accuracy: 0.8328\n",
      "Epoch 122/200\n",
      "319/319 [==============================] - 1s 4ms/step - loss: 0.3759 - accuracy: 0.8330 - val_loss: 0.3774 - val_accuracy: 0.8324\n",
      "Epoch 123/200\n",
      "319/319 [==============================] - 1s 4ms/step - loss: 0.3736 - accuracy: 0.8322 - val_loss: 0.3830 - val_accuracy: 0.8308\n",
      "Epoch 124/200\n",
      "319/319 [==============================] - 1s 4ms/step - loss: 0.3751 - accuracy: 0.8337 - val_loss: 0.3790 - val_accuracy: 0.8340\n",
      "Epoch 125/200\n",
      "319/319 [==============================] - 1s 4ms/step - loss: 0.3735 - accuracy: 0.8313 - val_loss: 0.3802 - val_accuracy: 0.8336\n",
      "Epoch 126/200\n",
      "319/319 [==============================] - 1s 4ms/step - loss: 0.3729 - accuracy: 0.8341 - val_loss: 0.3790 - val_accuracy: 0.8363\n",
      "Epoch 127/200\n",
      "319/319 [==============================] - 1s 4ms/step - loss: 0.3730 - accuracy: 0.8322 - val_loss: 0.3812 - val_accuracy: 0.8356\n",
      "Epoch 128/200\n",
      "319/319 [==============================] - 1s 3ms/step - loss: 0.3742 - accuracy: 0.8329 - val_loss: 0.3765 - val_accuracy: 0.8328\n",
      "Epoch 129/200\n",
      "319/319 [==============================] - 1s 3ms/step - loss: 0.3733 - accuracy: 0.8339 - val_loss: 0.3836 - val_accuracy: 0.8328\n",
      "Epoch 130/200\n",
      "319/319 [==============================] - 1s 3ms/step - loss: 0.3739 - accuracy: 0.8361 - val_loss: 0.3780 - val_accuracy: 0.8340\n",
      "Epoch 131/200\n",
      "319/319 [==============================] - 1s 4ms/step - loss: 0.3739 - accuracy: 0.8359 - val_loss: 0.3768 - val_accuracy: 0.8359\n",
      "Epoch 132/200\n",
      "319/319 [==============================] - 1s 4ms/step - loss: 0.3729 - accuracy: 0.8334 - val_loss: 0.3775 - val_accuracy: 0.8328\n",
      "Epoch 133/200\n",
      "319/319 [==============================] - 1s 3ms/step - loss: 0.3744 - accuracy: 0.8307 - val_loss: 0.3775 - val_accuracy: 0.8367\n",
      "Epoch 134/200\n",
      "319/319 [==============================] - 1s 3ms/step - loss: 0.3729 - accuracy: 0.8370 - val_loss: 0.3799 - val_accuracy: 0.8340\n",
      "Epoch 135/200\n",
      "319/319 [==============================] - 1s 3ms/step - loss: 0.3747 - accuracy: 0.8347 - val_loss: 0.3778 - val_accuracy: 0.8387\n",
      "Epoch 136/200\n",
      "319/319 [==============================] - 1s 3ms/step - loss: 0.3751 - accuracy: 0.8354 - val_loss: 0.3791 - val_accuracy: 0.8359\n",
      "Epoch 137/200\n",
      "319/319 [==============================] - 1s 3ms/step - loss: 0.3765 - accuracy: 0.8333 - val_loss: 0.3772 - val_accuracy: 0.8367\n",
      "Epoch 138/200\n",
      "319/319 [==============================] - 1s 4ms/step - loss: 0.3737 - accuracy: 0.8359 - val_loss: 0.3767 - val_accuracy: 0.8367\n",
      "Epoch 139/200\n",
      "319/319 [==============================] - 1s 4ms/step - loss: 0.3734 - accuracy: 0.8355 - val_loss: 0.3759 - val_accuracy: 0.8340\n",
      "Epoch 140/200\n",
      "319/319 [==============================] - 1s 4ms/step - loss: 0.3713 - accuracy: 0.8373 - val_loss: 0.3781 - val_accuracy: 0.8363\n",
      "Epoch 141/200\n",
      "319/319 [==============================] - 1s 5ms/step - loss: 0.3731 - accuracy: 0.8339 - val_loss: 0.3793 - val_accuracy: 0.8332\n",
      "Epoch 142/200\n",
      "319/319 [==============================] - 1s 4ms/step - loss: 0.3748 - accuracy: 0.8350 - val_loss: 0.3751 - val_accuracy: 0.8356\n",
      "Epoch 143/200\n",
      "319/319 [==============================] - 1s 4ms/step - loss: 0.3713 - accuracy: 0.8346 - val_loss: 0.3770 - val_accuracy: 0.8379\n",
      "Epoch 144/200\n",
      "319/319 [==============================] - 1s 4ms/step - loss: 0.3739 - accuracy: 0.8353 - val_loss: 0.3732 - val_accuracy: 0.8399\n",
      "Epoch 145/200\n",
      "319/319 [==============================] - 1s 4ms/step - loss: 0.3718 - accuracy: 0.8317 - val_loss: 0.3758 - val_accuracy: 0.8340\n",
      "Epoch 146/200\n",
      "319/319 [==============================] - 1s 4ms/step - loss: 0.3708 - accuracy: 0.8328 - val_loss: 0.3751 - val_accuracy: 0.8367\n",
      "Epoch 147/200\n",
      "319/319 [==============================] - 1s 4ms/step - loss: 0.3727 - accuracy: 0.8344 - val_loss: 0.3801 - val_accuracy: 0.8328\n",
      "Epoch 148/200\n",
      "319/319 [==============================] - 1s 4ms/step - loss: 0.3722 - accuracy: 0.8349 - val_loss: 0.3764 - val_accuracy: 0.8348\n",
      "Epoch 149/200\n",
      "319/319 [==============================] - 1s 4ms/step - loss: 0.3715 - accuracy: 0.8362 - val_loss: 0.3794 - val_accuracy: 0.8316\n",
      "Epoch 150/200\n",
      "319/319 [==============================] - 1s 4ms/step - loss: 0.3730 - accuracy: 0.8364 - val_loss: 0.3755 - val_accuracy: 0.8375\n",
      "Epoch 151/200\n",
      "319/319 [==============================] - 1s 4ms/step - loss: 0.3710 - accuracy: 0.8354 - val_loss: 0.3742 - val_accuracy: 0.8387\n",
      "Epoch 152/200\n",
      "319/319 [==============================] - 1s 4ms/step - loss: 0.3720 - accuracy: 0.8356 - val_loss: 0.3772 - val_accuracy: 0.8375\n",
      "Epoch 153/200\n",
      "319/319 [==============================] - 1s 4ms/step - loss: 0.3732 - accuracy: 0.8337 - val_loss: 0.3774 - val_accuracy: 0.8332\n",
      "Epoch 154/200\n",
      "319/319 [==============================] - 1s 4ms/step - loss: 0.3712 - accuracy: 0.8348 - val_loss: 0.3783 - val_accuracy: 0.8375\n",
      "Epoch 155/200\n",
      "319/319 [==============================] - 1s 4ms/step - loss: 0.3724 - accuracy: 0.8341 - val_loss: 0.3777 - val_accuracy: 0.8367\n",
      "Epoch 156/200\n",
      "319/319 [==============================] - 1s 4ms/step - loss: 0.3709 - accuracy: 0.8363 - val_loss: 0.3767 - val_accuracy: 0.8363\n",
      "Epoch 157/200\n",
      "319/319 [==============================] - 1s 4ms/step - loss: 0.3696 - accuracy: 0.8367 - val_loss: 0.3769 - val_accuracy: 0.8359\n",
      "Epoch 158/200\n",
      "319/319 [==============================] - 1s 4ms/step - loss: 0.3712 - accuracy: 0.8356 - val_loss: 0.3764 - val_accuracy: 0.8371\n",
      "Epoch 159/200\n",
      "319/319 [==============================] - 1s 4ms/step - loss: 0.3714 - accuracy: 0.8371 - val_loss: 0.3742 - val_accuracy: 0.8367\n",
      "Epoch 160/200\n",
      "319/319 [==============================] - 1s 4ms/step - loss: 0.3700 - accuracy: 0.8360 - val_loss: 0.3760 - val_accuracy: 0.8399\n",
      "Epoch 161/200\n",
      "319/319 [==============================] - 1s 4ms/step - loss: 0.3732 - accuracy: 0.8341 - val_loss: 0.3779 - val_accuracy: 0.8344\n",
      "Epoch 162/200\n",
      "319/319 [==============================] - 1s 4ms/step - loss: 0.3705 - accuracy: 0.8363 - val_loss: 0.3755 - val_accuracy: 0.8379\n",
      "Epoch 163/200\n",
      "319/319 [==============================] - 1s 4ms/step - loss: 0.3728 - accuracy: 0.8356 - val_loss: 0.3745 - val_accuracy: 0.8411\n",
      "Epoch 164/200\n",
      "319/319 [==============================] - 1s 4ms/step - loss: 0.3704 - accuracy: 0.8361 - val_loss: 0.3788 - val_accuracy: 0.8348\n",
      "Epoch 165/200\n",
      "319/319 [==============================] - 1s 4ms/step - loss: 0.3709 - accuracy: 0.8354 - val_loss: 0.3766 - val_accuracy: 0.8387\n",
      "Epoch 166/200\n",
      "319/319 [==============================] - 1s 4ms/step - loss: 0.3709 - accuracy: 0.8350 - val_loss: 0.3766 - val_accuracy: 0.8320\n",
      "Epoch 167/200\n",
      "319/319 [==============================] - 1s 4ms/step - loss: 0.3703 - accuracy: 0.8356 - val_loss: 0.3773 - val_accuracy: 0.8367\n",
      "Epoch 168/200\n",
      "319/319 [==============================] - 1s 4ms/step - loss: 0.3679 - accuracy: 0.8359 - val_loss: 0.3735 - val_accuracy: 0.8395\n",
      "Epoch 169/200\n",
      "319/319 [==============================] - 1s 4ms/step - loss: 0.3695 - accuracy: 0.8342 - val_loss: 0.3798 - val_accuracy: 0.8332\n",
      "Epoch 170/200\n",
      "319/319 [==============================] - 1s 4ms/step - loss: 0.3709 - accuracy: 0.8365 - val_loss: 0.3728 - val_accuracy: 0.8371\n",
      "Epoch 171/200\n"
     ]
    },
    {
     "name": "stdout",
     "output_type": "stream",
     "text": [
      "319/319 [==============================] - 1s 4ms/step - loss: 0.3735 - accuracy: 0.8312 - val_loss: 0.3724 - val_accuracy: 0.8411\n",
      "Epoch 172/200\n",
      "319/319 [==============================] - 1s 4ms/step - loss: 0.3708 - accuracy: 0.8348 - val_loss: 0.3723 - val_accuracy: 0.8387\n",
      "Epoch 173/200\n",
      "319/319 [==============================] - 1s 4ms/step - loss: 0.3690 - accuracy: 0.8347 - val_loss: 0.3740 - val_accuracy: 0.8387\n",
      "Epoch 174/200\n",
      "319/319 [==============================] - 1s 4ms/step - loss: 0.3710 - accuracy: 0.8347 - val_loss: 0.3741 - val_accuracy: 0.8387\n",
      "Epoch 175/200\n",
      "319/319 [==============================] - 1s 4ms/step - loss: 0.3702 - accuracy: 0.8378 - val_loss: 0.3729 - val_accuracy: 0.8387\n",
      "Epoch 176/200\n",
      "319/319 [==============================] - 1s 4ms/step - loss: 0.3687 - accuracy: 0.8359 - val_loss: 0.3743 - val_accuracy: 0.8403\n",
      "Epoch 177/200\n",
      "319/319 [==============================] - 1s 4ms/step - loss: 0.3715 - accuracy: 0.8350 - val_loss: 0.3720 - val_accuracy: 0.8367\n",
      "Epoch 178/200\n",
      "319/319 [==============================] - 1s 4ms/step - loss: 0.3679 - accuracy: 0.8347 - val_loss: 0.3750 - val_accuracy: 0.8391\n",
      "Epoch 179/200\n",
      "319/319 [==============================] - 1s 4ms/step - loss: 0.3710 - accuracy: 0.8362 - val_loss: 0.3735 - val_accuracy: 0.8371\n",
      "Epoch 180/200\n",
      "319/319 [==============================] - 1s 4ms/step - loss: 0.3709 - accuracy: 0.8338 - val_loss: 0.3792 - val_accuracy: 0.8359\n",
      "Epoch 181/200\n",
      "319/319 [==============================] - 1s 4ms/step - loss: 0.3696 - accuracy: 0.8359 - val_loss: 0.3784 - val_accuracy: 0.8340\n",
      "Epoch 182/200\n",
      "319/319 [==============================] - 1s 4ms/step - loss: 0.3699 - accuracy: 0.8374 - val_loss: 0.3743 - val_accuracy: 0.8395\n",
      "Epoch 183/200\n",
      "319/319 [==============================] - 1s 4ms/step - loss: 0.3677 - accuracy: 0.8359 - val_loss: 0.3736 - val_accuracy: 0.8359\n",
      "Epoch 184/200\n",
      "319/319 [==============================] - 1s 4ms/step - loss: 0.3684 - accuracy: 0.8352 - val_loss: 0.3716 - val_accuracy: 0.8411\n",
      "Epoch 185/200\n",
      "319/319 [==============================] - 1s 4ms/step - loss: 0.3676 - accuracy: 0.8355 - val_loss: 0.3729 - val_accuracy: 0.8426\n",
      "Epoch 186/200\n",
      "319/319 [==============================] - 1s 4ms/step - loss: 0.3686 - accuracy: 0.8372 - val_loss: 0.3736 - val_accuracy: 0.8399\n",
      "Epoch 187/200\n",
      "319/319 [==============================] - 1s 4ms/step - loss: 0.3684 - accuracy: 0.8374 - val_loss: 0.3723 - val_accuracy: 0.8375\n",
      "Epoch 188/200\n",
      "319/319 [==============================] - 1s 4ms/step - loss: 0.3689 - accuracy: 0.8369 - val_loss: 0.3811 - val_accuracy: 0.8348\n",
      "Epoch 189/200\n",
      "319/319 [==============================] - 1s 4ms/step - loss: 0.3679 - accuracy: 0.8390 - val_loss: 0.3753 - val_accuracy: 0.8383\n",
      "Epoch 190/200\n",
      "319/319 [==============================] - 1s 4ms/step - loss: 0.3700 - accuracy: 0.8368 - val_loss: 0.3734 - val_accuracy: 0.8414\n",
      "Epoch 191/200\n",
      "319/319 [==============================] - 1s 4ms/step - loss: 0.3665 - accuracy: 0.8378 - val_loss: 0.3783 - val_accuracy: 0.8371\n",
      "Epoch 192/200\n",
      "319/319 [==============================] - 1s 4ms/step - loss: 0.3680 - accuracy: 0.8354 - val_loss: 0.3726 - val_accuracy: 0.8422\n",
      "Epoch 193/200\n",
      "319/319 [==============================] - 1s 4ms/step - loss: 0.3692 - accuracy: 0.8376 - val_loss: 0.3747 - val_accuracy: 0.8363\n",
      "Epoch 194/200\n",
      "319/319 [==============================] - 1s 4ms/step - loss: 0.3676 - accuracy: 0.8359 - val_loss: 0.3718 - val_accuracy: 0.8407\n",
      "Epoch 195/200\n",
      "319/319 [==============================] - 1s 4ms/step - loss: 0.3685 - accuracy: 0.8348 - val_loss: 0.3714 - val_accuracy: 0.8383\n",
      "Epoch 196/200\n",
      "319/319 [==============================] - 1s 4ms/step - loss: 0.3693 - accuracy: 0.8343 - val_loss: 0.3744 - val_accuracy: 0.8348\n",
      "Epoch 197/200\n",
      "319/319 [==============================] - 1s 4ms/step - loss: 0.3687 - accuracy: 0.8352 - val_loss: 0.3821 - val_accuracy: 0.8383\n",
      "Epoch 198/200\n",
      "319/319 [==============================] - 1s 4ms/step - loss: 0.3690 - accuracy: 0.8376 - val_loss: 0.3727 - val_accuracy: 0.8403\n",
      "Epoch 199/200\n",
      "319/319 [==============================] - 1s 4ms/step - loss: 0.3662 - accuracy: 0.8374 - val_loss: 0.3729 - val_accuracy: 0.8399\n",
      "Epoch 200/200\n",
      "319/319 [==============================] - 1s 4ms/step - loss: 0.3671 - accuracy: 0.8373 - val_loss: 0.3729 - val_accuracy: 0.8383\n"
     ]
    }
   ],
   "source": [
    "model_history=model.fit(X_train,y_train,batch_size=32,epochs=200,validation_split=0.20)"
   ]
  },
  {
   "cell_type": "markdown",
   "id": "1fbe12bd",
   "metadata": {},
   "source": [
    "#### Visualizing training and validation loss"
   ]
  },
  {
   "cell_type": "code",
   "execution_count": 58,
   "id": "7546d646",
   "metadata": {},
   "outputs": [
    {
     "data": {
      "image/png": "[encoded data removed]",
      "text/plain": [
       "<Figure size 432x288 with 1 Axes>"
      ]
     },
     "metadata": {
      "needs_background": "light"
     },
     "output_type": "display_data"
    }
   ],
   "source": [
    "train_loss=model_history.history[\"loss\"]\n",
    "val_loss=model_history.history[\"val_loss\"]\n",
    "epochs=range(1,201)\n",
    "plt.plot(epochs,train_loss,label=\"training loss\")\n",
    "plt.plot(epochs,val_loss,label=\"validation loss\")\n",
    "plt.xlabel(\"epochs\")\n",
    "plt.ylabel(\"loss\")\n",
    "plt.legend()\n",
    "plt.show()"
   ]
  },
  {
   "cell_type": "code",
   "execution_count": 59,
   "id": "aab8ee7e",
   "metadata": {},
   "outputs": [
    {
     "data": {
      "image/png": "[encoded data removed]",
      "text/plain": [
       "<Figure size 432x288 with 1 Axes>"
      ]
     },
     "metadata": {
      "needs_background": "light"
     },
     "output_type": "display_data"
    }
   ],
   "source": [
    "train_acc=model_history.history[\"accuracy\"]\n",
    "val_acc=model_history.history[\"val_accuracy\"]\n",
    "epochs=range(1,201)\n",
    "plt.plot(epochs,train_acc,label=\"training accuracy\")\n",
    "plt.plot(epochs,val_acc,label=\"validation accuracy\")\n",
    "plt.xlabel(\"epochs\")\n",
    "plt.ylabel(\"accuracy\")\n",
    "plt.legend()\n",
    "plt.show()"
   ]
  },
  {
   "cell_type": "markdown",
   "id": "b38e18e4",
   "metadata": {},
   "source": [
    "### 4.Making the prediction and evaluating the model"
   ]
  },
  {
   "cell_type": "code",
   "execution_count": 61,
   "id": "60be557b",
   "metadata": {},
   "outputs": [],
   "source": [
    "from sklearn.metrics import ConfusionMatrixDisplay"
   ]
  },
  {
   "cell_type": "code",
   "execution_count": 62,
   "id": "f98c0a1e",
   "metadata": {},
   "outputs": [
    {
     "name": "stdout",
     "output_type": "stream",
     "text": [
      "1/1 [==============================] - 0s 195ms/step\n"
     ]
    },
    {
     "data": {
      "text/plain": [
       "array([[0.54252094]], dtype=float32)"
      ]
     },
     "execution_count": 62,
     "metadata": {},
     "output_type": "execute_result"
    }
   ],
   "source": [
    "model.predict(scaler.transform([[600,1,40,3,60000,2,1,1,50000,1,0]]))"
   ]
  },
  {
   "cell_type": "markdown",
   "id": "c09334d1",
   "metadata": {},
   "source": [
    "#### Predicting the test set results"
   ]
  },
  {
   "cell_type": "code",
   "execution_count": 63,
   "id": "b210f417",
   "metadata": {},
   "outputs": [
    {
     "name": "stdout",
     "output_type": "stream",
     "text": [
      "100/100 [==============================] - 0s 3ms/step\n"
     ]
    }
   ],
   "source": [
    "y_test_pred=model.predict(X_test)"
   ]
  },
  {
   "cell_type": "code",
   "execution_count": 64,
   "id": "a32ff2ca",
   "metadata": {},
   "outputs": [],
   "source": [
    "y_test_pred=pd.DataFrame(y_test_pred)"
   ]
  },
  {
   "cell_type": "code",
   "execution_count": 65,
   "id": "77a1d13b",
   "metadata": {},
   "outputs": [],
   "source": [
    "y_test_pred=round(y_test_pred)"
   ]
  },
  {
   "cell_type": "code",
   "execution_count": 66,
   "id": "971f1ada",
   "metadata": {},
   "outputs": [],
   "source": [
    "y_test=y_test.reset_index()"
   ]
  },
  {
   "cell_type": "code",
   "execution_count": 67,
   "id": "fd6b35aa",
   "metadata": {},
   "outputs": [],
   "source": [
    "y_test.drop(\"index\",axis=1,inplace=True)"
   ]
  },
  {
   "cell_type": "code",
   "execution_count": 68,
   "id": "7174db0c",
   "metadata": {
    "scrolled": true
   },
   "outputs": [],
   "source": [
    "prediction=pd.concat([y_test_pred,y_test],axis=1)"
   ]
  },
  {
   "cell_type": "code",
   "execution_count": 69,
   "id": "94310a08",
   "metadata": {},
   "outputs": [],
   "source": [
    "prediction.columns=[\"predicted\",\"actual\"]"
   ]
  },
  {
   "cell_type": "code",
   "execution_count": 70,
   "id": "4cb8bb69",
   "metadata": {},
   "outputs": [
    {
     "data": {
      "text/html": [
       "<div>\n",
       "<style scoped>\n",
       "    .dataframe tbody tr th:only-of-type {\n",
       "        vertical-align: middle;\n",
       "    }\n",
       "\n",
       "    .dataframe tbody tr th {\n",
       "        vertical-align: top;\n",
       "    }\n",
       "\n",
       "    .dataframe thead th {\n",
       "        text-align: right;\n",
       "    }\n",
       "</style>\n",
       "<table border=\"1\" class=\"dataframe\">\n",
       "  <thead>\n",
       "    <tr style=\"text-align: right;\">\n",
       "      <th></th>\n",
       "      <th>predicted</th>\n",
       "      <th>actual</th>\n",
       "    </tr>\n",
       "  </thead>\n",
       "  <tbody>\n",
       "    <tr>\n",
       "      <th>0</th>\n",
       "      <td>0.0</td>\n",
       "      <td>0</td>\n",
       "    </tr>\n",
       "    <tr>\n",
       "      <th>1</th>\n",
       "      <td>1.0</td>\n",
       "      <td>0</td>\n",
       "    </tr>\n",
       "    <tr>\n",
       "      <th>2</th>\n",
       "      <td>0.0</td>\n",
       "      <td>1</td>\n",
       "    </tr>\n",
       "    <tr>\n",
       "      <th>3</th>\n",
       "      <td>1.0</td>\n",
       "      <td>0</td>\n",
       "    </tr>\n",
       "    <tr>\n",
       "      <th>4</th>\n",
       "      <td>1.0</td>\n",
       "      <td>1</td>\n",
       "    </tr>\n",
       "  </tbody>\n",
       "</table>\n",
       "</div>"
      ],
      "text/plain": [
       "   predicted  actual\n",
       "0        0.0       0\n",
       "1        1.0       0\n",
       "2        0.0       1\n",
       "3        1.0       0\n",
       "4        1.0       1"
      ]
     },
     "execution_count": 70,
     "metadata": {},
     "output_type": "execute_result"
    }
   ],
   "source": [
    "prediction.head()"
   ]
  },
  {
   "cell_type": "code",
   "execution_count": 71,
   "id": "224fe212",
   "metadata": {},
   "outputs": [
    {
     "data": {
      "text/plain": [
       "0.8270558694287508"
      ]
     },
     "execution_count": 71,
     "metadata": {},
     "output_type": "execute_result"
    }
   ],
   "source": [
    "accuracy_score(y_test,y_test_pred)"
   ]
  },
  {
   "cell_type": "code",
   "execution_count": 72,
   "id": "9de15656",
   "metadata": {},
   "outputs": [],
   "source": [
    "cf=confusion_matrix(y_test,y_test_pred)"
   ]
  },
  {
   "cell_type": "code",
   "execution_count": 73,
   "id": "3c9228e5",
   "metadata": {},
   "outputs": [
    {
     "data": {
      "text/plain": [
       "array([[1322,  271],\n",
       "       [ 280, 1313]], dtype=int64)"
      ]
     },
     "execution_count": 73,
     "metadata": {},
     "output_type": "execute_result"
    }
   ],
   "source": [
    "cf"
   ]
  },
  {
   "cell_type": "code",
   "execution_count": 74,
   "id": "1b9ab976",
   "metadata": {},
   "outputs": [
    {
     "data": {
      "image/png": "[encoded data removed]",
      "text/plain": [
       "<Figure size 432x288 with 2 Axes>"
      ]
     },
     "metadata": {
      "needs_background": "light"
     },
     "output_type": "display_data"
    }
   ],
   "source": [
    "cmd=ConfusionMatrixDisplay(cf,display_labels=[\"stay\",\"leave\"])\n",
    "cmd.plot()\n",
    "plt.grid(False)"
   ]
  },
  {
   "cell_type": "markdown",
   "id": "40d21412",
   "metadata": {},
   "source": [
    "#### Precision and recall and F1 score"
   ]
  },
  {
   "cell_type": "code",
   "execution_count": 75,
   "id": "f33219e2",
   "metadata": {},
   "outputs": [],
   "source": [
    "TP=cf[1][1]\n",
    "predicted_leave=cf[1][1] + cf[0][1]\n",
    "precision_for_leave=TP/predicted_leave"
   ]
  },
  {
   "cell_type": "code",
   "execution_count": 76,
   "id": "171dc694",
   "metadata": {},
   "outputs": [
    {
     "data": {
      "text/plain": [
       "0.8289141414141414"
      ]
     },
     "execution_count": 76,
     "metadata": {},
     "output_type": "execute_result"
    }
   ],
   "source": [
    "precision_for_leave"
   ]
  },
  {
   "cell_type": "code",
   "execution_count": 77,
   "id": "f3f1bf2a",
   "metadata": {},
   "outputs": [],
   "source": [
    "TN=cf[0][0]\n",
    "predicted_stay=cf[0][0] + cf[1][0]\n",
    "precision_for_stay=TN/predicted_stay"
   ]
  },
  {
   "cell_type": "code",
   "execution_count": 78,
   "id": "df3342d7",
   "metadata": {},
   "outputs": [
    {
     "data": {
      "text/plain": [
       "0.8252184769038702"
      ]
     },
     "execution_count": 78,
     "metadata": {},
     "output_type": "execute_result"
    }
   ],
   "source": [
    "precision_for_stay"
   ]
  },
  {
   "cell_type": "code",
   "execution_count": 79,
   "id": "3bb2b6ac",
   "metadata": {},
   "outputs": [
    {
     "data": {
      "text/plain": [
       "0.8242310106716887"
      ]
     },
     "execution_count": 79,
     "metadata": {},
     "output_type": "execute_result"
    }
   ],
   "source": [
    "actual_leave=sum(cf[1][:])\n",
    "recall_for_leave=TP/actual_leave\n",
    "recall_for_leave"
   ]
  },
  {
   "cell_type": "code",
   "execution_count": 80,
   "id": "fdaad012",
   "metadata": {},
   "outputs": [
    {
     "data": {
      "text/plain": [
       "0.8298807281858129"
      ]
     },
     "execution_count": 80,
     "metadata": {},
     "output_type": "execute_result"
    }
   ],
   "source": [
    "actual_stay=sum(cf[0][:])\n",
    "recall_for_stay=TN/actual_stay\n",
    "recall_for_stay"
   ]
  },
  {
   "cell_type": "code",
   "execution_count": 81,
   "id": "1cd0a912",
   "metadata": {},
   "outputs": [
    {
     "data": {
      "text/plain": [
       "0.8265659427132516"
      ]
     },
     "execution_count": 81,
     "metadata": {},
     "output_type": "execute_result"
    }
   ],
   "source": [
    "F1_score_for_leave=(2*precision_for_leave*recall_for_leave)/(precision_for_leave + recall_for_leave)\n",
    "F1_score_for_leave"
   ]
  },
  {
   "cell_type": "code",
   "execution_count": 82,
   "id": "9f8ec4f0",
   "metadata": {},
   "outputs": [
    {
     "data": {
      "text/plain": [
       "0.8275430359937402"
      ]
     },
     "execution_count": 82,
     "metadata": {},
     "output_type": "execute_result"
    }
   ],
   "source": [
    "F1_score_for_stay=(2*precision_for_stay*recall_for_stay)/(precision_for_stay + recall_for_stay)\n",
    "F1_score_for_stay"
   ]
  },
  {
   "cell_type": "code",
   "execution_count": 83,
   "id": "62d58ce6",
   "metadata": {},
   "outputs": [],
   "source": [
    "d={\"parameter\":[\"precision\",\"recall\",\"F1 score\"],\"stay\":[precision_for_stay,recall_for_stay,F1_score_for_stay]\n",
    " ,\"leave\":[precision_for_leave,recall_for_leave,F1_score_for_leave]}"
   ]
  },
  {
   "cell_type": "code",
   "execution_count": 84,
   "id": "96e52f13",
   "metadata": {},
   "outputs": [],
   "source": [
    "classification_report=pd.DataFrame(d)"
   ]
  },
  {
   "cell_type": "code",
   "execution_count": null,
   "id": "307530aa",
   "metadata": {},
   "outputs": [],
   "source": [
    "classification_report"
   ]
  },
  {
   "cell_type": "code",
   "execution_count": null,
   "id": "449437fa",
   "metadata": {},
   "outputs": [],
   "source": [
    "model.save(\"my_model.h5\")"
   ]
  },
  {
   "cell_type": "code",
   "execution_count": null,
   "id": "08871ef7",
   "metadata": {},
   "outputs": [],
   "source": [
    "from tensorflow.keras.models import load_model"
   ]
  },
  {
   "cell_type": "code",
   "execution_count": null,
   "id": "49a8871a",
   "metadata": {},
   "outputs": [],
   "source": [
    "model1=load_model(\"my_model.h5\")"
   ]
  },
  {
   "cell_type": "code",
   "execution_count": null,
   "id": "662ef7e8",
   "metadata": {},
   "outputs": [],
   "source": [
    "model1.predict(scaler.transform([[600,1,40,3,60000,2,1,1,50000,1,0]]))"
   ]
  },
  {
   "cell_type": "code",
   "execution_count": null,
   "id": "bdb975a2",
   "metadata": {},
   "outputs": [],
   "source": [
    "model1.predict(scaler.transform([[530,0,44,2,0,1,0,0,8079,1,0]]))"
   ]
  },
  {
   "cell_type": "code",
   "execution_count": null,
   "id": "20f1fe10",
   "metadata": {},
   "outputs": [],
   "source": []
  }
 ],
 "metadata": {
  "kernelspec": {
   "display_name": "Python 3 (ipykernel)",
   "language": "python",
   "name": "python3"
  },
  "language_info": {
   "codemirror_mode": {
    "name": "ipython",
    "version": 3
   },
   "file_extension": ".py",
   "mimetype": "text/x-python",
   "name": "python",
   "nbconvert_exporter": "python",
   "pygments_lexer": "ipython3",
   "version": "3.10.4"
  }
 },
 "nbformat": 4,
 "nbformat_minor": 5
}
